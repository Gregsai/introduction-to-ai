{
 "cells": [
  {
   "cell_type": "code",
   "execution_count": 2,
   "metadata": {},
   "outputs": [],
   "source": [
    "# The tqdm package is useful to visualize progress with long computations. \n",
    "# Install it using pip. \n",
    "import numpy as np\n",
    "import os\n",
    "import sys\n",
    "import sys     # These lines correct a bug occuring in Notebooks.\n",
    "sys.argv=['']  # It's not perfect, but it works.\n",
    "\n",
    "import os\n",
    "lab_commons_path = os.path.join(os.getcwd(), \"..\")\n",
    "if lab_commons_path not in sys.path:\n",
    "    sys.path.append(lab_commons_path)\n",
    "\n",
    "import lab_commons.make_2_player_matches as simulations\n",
    "import lab_commons.AI.greedy as greedy_player\n",
    "import lab_commons.AI.random as random_player\n",
    "import lab_commons.AI.second_greedy as second_greedy_player\n",
    "\n",
    "program_1 = greedy_player \n",
    "program_2 = second_greedy_player "
   ]
  },
  {
   "cell_type": "markdown",
   "metadata": {},
   "source": [
    "### i) 250 games 5x7 with 4 cheeses"
   ]
  },
  {
   "cell_type": "code",
   "execution_count": 2,
   "metadata": {},
   "outputs": [
    {
     "name": "stderr",
     "output_type": "stream",
     "text": [
      "Game:   0%|          | 0/250 [00:00<?, ?it/s]"
     ]
    },
    {
     "name": "stderr",
     "output_type": "stream",
     "text": [
      "                                                       "
     ]
    },
    {
     "name": "stdout",
     "output_type": "stream",
     "text": [
      "Game 250 out of 250 done\n"
     ]
    },
    {
     "name": "stderr",
     "output_type": "stream",
     "text": [
      "\r"
     ]
    }
   ],
   "source": [
    "nb_games = 250\n",
    "nb_cheese = 4\n",
    "maze_width = 5\n",
    "maze_height = 7\n",
    "\n",
    "# counter \n",
    "count = 0 \n",
    "total = 5*50\n",
    "# Iterate over all possible combinations of number of cheeses, maze width, and maze height\n",
    "_, cheeses, winners = simulations.run_several_games(program_1, program_2, nb_cheese=int(nb_cheese),\n",
    "                                                    maze_width=int(maze_width), maze_height=int(maze_height),\n",
    "                                                    nb_games=int(nb_games))\n",
    "\n",
    "# Construct the path to the DATASETS directory\n",
    "dataset_dir = os.path.join(os.getcwd(), \"..\", \"DATASETS_SUPERVISED_LEARNING\", \"NORMAL\")\n",
    "\n",
    "# Create the directory if it doesn't exist\n",
    "if not os.path.exists(dataset_dir):\n",
    "    os.makedirs(dataset_dir)\n",
    "\n",
    "# Construct the file name\n",
    "file_name = f\"normal.npz\"\n",
    "\n",
    "# Construct the full path to the file\n",
    "file_path = os.path.join(dataset_dir, file_name)\n",
    "\n",
    "# Save the arrays to the file\n",
    "np.savez(file_path, cheeses=cheeses, winners=winners)\n",
    "\n",
    "count += nb_games\n",
    "print(f\"Game {count} out of {total} done\")\n"
   ]
  },
  {
   "cell_type": "markdown",
   "metadata": {},
   "source": [
    "### ii) 50 games 5x7 with differents number of cheeses "
   ]
  },
  {
   "cell_type": "code",
   "execution_count": 3,
   "metadata": {},
   "outputs": [
    {
     "name": "stderr",
     "output_type": "stream",
     "text": [
      "Game:   0%|          | 0/50 [00:00<?, ?it/s]"
     ]
    },
    {
     "name": "stderr",
     "output_type": "stream",
     "text": [
      "                                                     \r"
     ]
    },
    {
     "name": "stdout",
     "output_type": "stream",
     "text": [
      "Game 50 out of 250 done\n"
     ]
    },
    {
     "name": "stderr",
     "output_type": "stream",
     "text": [
      "                                                     \r"
     ]
    },
    {
     "name": "stdout",
     "output_type": "stream",
     "text": [
      "Game 100 out of 250 done\n"
     ]
    },
    {
     "name": "stderr",
     "output_type": "stream",
     "text": [
      "                                                     \r"
     ]
    },
    {
     "name": "stdout",
     "output_type": "stream",
     "text": [
      "Game 150 out of 250 done\n"
     ]
    },
    {
     "name": "stderr",
     "output_type": "stream",
     "text": [
      "                                                     \r"
     ]
    },
    {
     "name": "stdout",
     "output_type": "stream",
     "text": [
      "Game 200 out of 250 done\n"
     ]
    },
    {
     "name": "stderr",
     "output_type": "stream",
     "text": [
      "                                                     "
     ]
    },
    {
     "name": "stdout",
     "output_type": "stream",
     "text": [
      "Game 250 out of 250 done\n"
     ]
    },
    {
     "name": "stderr",
     "output_type": "stream",
     "text": [
      "\r"
     ]
    }
   ],
   "source": [
    "nb_games = 50\n",
    "nb_cheeses = np.linspace(1, 30, 5).astype(int)\n",
    "maze_width = 5\n",
    "maze_height = 7\n",
    "\n",
    "# counter \n",
    "count = 0 \n",
    "total = 5*50\n",
    "# Iterate over all possible combinations of number of cheeses, maze width, and maze height\n",
    "for nb_cheese in nb_cheeses:\n",
    "        _, cheeses, winners = simulations.run_several_games(program_1, program_2, nb_cheese=int(nb_cheese),\n",
    "                                                            maze_width=int(maze_width), maze_height=int(maze_height),\n",
    "                                                            nb_games=int(nb_games))\n",
    "        \n",
    "        # Construct the path to the DATASETS directory\n",
    "        dataset_dir = os.path.join(os.getcwd(), \"..\", \"DATASETS_SUPERVISED_LEARNING\", \"CHANGE_CHEESE\")\n",
    "\n",
    "        # Create the directory if it doesn't exist\n",
    "        if not os.path.exists(dataset_dir):\n",
    "            os.makedirs(dataset_dir)\n",
    "\n",
    "        # Construct the file name\n",
    "        file_name = f\"{int(nb_cheese)}_cheeses.npz\"\n",
    "\n",
    "        # Construct the full path to the file\n",
    "        file_path = os.path.join(dataset_dir, file_name)\n",
    "\n",
    "        # Save the arrays to the file\n",
    "        np.savez(file_path, cheeses=cheeses, winners=winners)\n",
    "\n",
    "        count += nb_games\n",
    "        print(f\"Game {count} out of {total} done\")\n"
   ]
  },
  {
   "cell_type": "markdown",
   "metadata": {},
   "source": [
    "### iii) 50 games 5x 4cheeses with differents heights"
   ]
  },
  {
   "cell_type": "code",
   "execution_count": 4,
   "metadata": {},
   "outputs": [
    {
     "name": "stderr",
     "output_type": "stream",
     "text": [
      "                                                     \r"
     ]
    },
    {
     "name": "stdout",
     "output_type": "stream",
     "text": [
      "Game 50 out of 250 done\n"
     ]
    },
    {
     "name": "stderr",
     "output_type": "stream",
     "text": [
      "                                                     \r"
     ]
    },
    {
     "name": "stdout",
     "output_type": "stream",
     "text": [
      "Game 100 out of 250 done\n"
     ]
    },
    {
     "name": "stderr",
     "output_type": "stream",
     "text": [
      "                                                     \r"
     ]
    },
    {
     "name": "stdout",
     "output_type": "stream",
     "text": [
      "Game 150 out of 250 done\n"
     ]
    },
    {
     "name": "stderr",
     "output_type": "stream",
     "text": [
      "                                                     \r"
     ]
    },
    {
     "name": "stdout",
     "output_type": "stream",
     "text": [
      "Game 200 out of 250 done\n"
     ]
    },
    {
     "name": "stderr",
     "output_type": "stream",
     "text": [
      "                                                     "
     ]
    },
    {
     "name": "stdout",
     "output_type": "stream",
     "text": [
      "Game 250 out of 250 done\n"
     ]
    },
    {
     "name": "stderr",
     "output_type": "stream",
     "text": [
      "\r"
     ]
    }
   ],
   "source": [
    "nb_games = 50\n",
    "nb_cheese = 4\n",
    "maze_width = 5\n",
    "maze_heights = np.linspace(2, 40, 5).astype(int)\n",
    "\n",
    "# counter \n",
    "count = 0 \n",
    "total = 5*50\n",
    "# Iterate over all possible combinations of number of cheeses, maze width, and maze height\n",
    "for maze_height in maze_heights:\n",
    "        _, cheeses, winners = simulations.run_several_games(program_1, program_2, nb_cheese=int(nb_cheese),\n",
    "                                                            maze_width=int(maze_width), maze_height=int(maze_height),\n",
    "                                                            nb_games=int(nb_games))\n",
    "        \n",
    "        # Construct the path to the DATASETS directory\n",
    "        dataset_dir = os.path.join(os.getcwd(), \"..\", \"DATASETS_SUPERVISED_LEARNING\", \"CHANGE_HEIGHT\")\n",
    "\n",
    "        # Create the directory if it doesn't exist\n",
    "        if not os.path.exists(dataset_dir):\n",
    "            os.makedirs(dataset_dir)\n",
    "\n",
    "        # Construct the file name\n",
    "        file_name = f\"{int(maze_height)}_height.npz\"\n",
    "\n",
    "        # Construct the full path to the file\n",
    "        file_path = os.path.join(dataset_dir, file_name)\n",
    "\n",
    "        # Save the arrays to the file\n",
    "        np.savez(file_path, cheeses=cheeses, winners=winners)\n",
    "\n",
    "        count += nb_games\n",
    "        print(f\"Game {count} out of {total} done\")\n"
   ]
  },
  {
   "cell_type": "markdown",
   "metadata": {},
   "source": [
    "### iiii) 50 games x7 4cheeses with differents widths"
   ]
  },
  {
   "cell_type": "code",
   "execution_count": 5,
   "metadata": {},
   "outputs": [
    {
     "name": "stderr",
     "output_type": "stream",
     "text": [
      "Game:   0%|          | 0/50 [00:00<?, ?it/s]"
     ]
    },
    {
     "name": "stderr",
     "output_type": "stream",
     "text": [
      "                                                     \r"
     ]
    },
    {
     "name": "stdout",
     "output_type": "stream",
     "text": [
      "Game 50 out of 250 done\n"
     ]
    },
    {
     "name": "stderr",
     "output_type": "stream",
     "text": [
      "                                                     \r"
     ]
    },
    {
     "name": "stdout",
     "output_type": "stream",
     "text": [
      "Game 100 out of 250 done\n"
     ]
    },
    {
     "name": "stderr",
     "output_type": "stream",
     "text": [
      "                                                     \r"
     ]
    },
    {
     "name": "stdout",
     "output_type": "stream",
     "text": [
      "Game 150 out of 250 done\n"
     ]
    },
    {
     "name": "stderr",
     "output_type": "stream",
     "text": [
      "                                                     \r"
     ]
    },
    {
     "name": "stdout",
     "output_type": "stream",
     "text": [
      "Game 200 out of 250 done\n"
     ]
    },
    {
     "name": "stderr",
     "output_type": "stream",
     "text": [
      "                                                     "
     ]
    },
    {
     "name": "stdout",
     "output_type": "stream",
     "text": [
      "Game 250 out of 250 done\n"
     ]
    },
    {
     "name": "stderr",
     "output_type": "stream",
     "text": [
      "\r"
     ]
    }
   ],
   "source": [
    "nb_games = 50\n",
    "nb_cheese = 4\n",
    "maze_widths = np.linspace(2, 40, 5).astype(int)\n",
    "maze_height = 7\n",
    "\n",
    "# counter \n",
    "count = 0 \n",
    "total = 5*50\n",
    "# Iterate over all possible combinations of number of cheeses, maze width, and maze height\n",
    "for maze_width in maze_widths:\n",
    "        _, cheeses, winners = simulations.run_several_games(program_1, program_2, nb_cheese=int(nb_cheese),\n",
    "                                                            maze_width=int(maze_width), maze_height=int(maze_height),\n",
    "                                                            nb_games=int(nb_games))\n",
    "        \n",
    "        # Construct the path to the DATASETS directory\n",
    "        dataset_dir = os.path.join(os.getcwd(), \"..\", \"DATASETS_SUPERVISED_LEARNING\", \"CHANGE_WIDTH\")\n",
    "\n",
    "        # Create the directory if it doesn't exist\n",
    "        if not os.path.exists(dataset_dir):\n",
    "            os.makedirs(dataset_dir)\n",
    "\n",
    "        # Construct the file name\n",
    "        file_name = f\"{int(maze_width)}_width.npz\"\n",
    "\n",
    "        # Construct the full path to the file\n",
    "        file_path = os.path.join(dataset_dir, file_name)\n",
    "\n",
    "        # Save the arrays to the file\n",
    "        np.savez(file_path, cheeses=cheeses, winners=winners)\n",
    "\n",
    "        count += nb_games\n",
    "        print(f\"Game {count} out of {total} done\")\n"
   ]
  },
  {
   "cell_type": "markdown",
   "metadata": {},
   "source": [
    "### iiiii) Random values "
   ]
  },
  {
   "cell_type": "code",
   "execution_count": 4,
   "metadata": {},
   "outputs": [
    {
     "name": "stderr",
     "output_type": "stream",
     "text": [
      "                                                     \r"
     ]
    },
    {
     "name": "stdout",
     "output_type": "stream",
     "text": [
      "Game 50 out of 1350 done\n"
     ]
    },
    {
     "name": "stderr",
     "output_type": "stream",
     "text": [
      "                                                     \r"
     ]
    },
    {
     "name": "stdout",
     "output_type": "stream",
     "text": [
      "Game 100 out of 1350 done\n"
     ]
    },
    {
     "name": "stderr",
     "output_type": "stream",
     "text": [
      "                                                     \r"
     ]
    },
    {
     "name": "stdout",
     "output_type": "stream",
     "text": [
      "Game 150 out of 1350 done\n"
     ]
    },
    {
     "name": "stderr",
     "output_type": "stream",
     "text": [
      "                                                     \r"
     ]
    },
    {
     "name": "stdout",
     "output_type": "stream",
     "text": [
      "Game 200 out of 1350 done\n"
     ]
    },
    {
     "name": "stderr",
     "output_type": "stream",
     "text": [
      "                                                     \r"
     ]
    },
    {
     "name": "stdout",
     "output_type": "stream",
     "text": [
      "Game 250 out of 1350 done\n"
     ]
    },
    {
     "name": "stderr",
     "output_type": "stream",
     "text": [
      "                                                     \r"
     ]
    },
    {
     "name": "stdout",
     "output_type": "stream",
     "text": [
      "Game 300 out of 1350 done\n"
     ]
    },
    {
     "name": "stderr",
     "output_type": "stream",
     "text": [
      "                                                     \r"
     ]
    },
    {
     "name": "stdout",
     "output_type": "stream",
     "text": [
      "Game 350 out of 1350 done\n"
     ]
    },
    {
     "name": "stderr",
     "output_type": "stream",
     "text": [
      "                                                     \r"
     ]
    },
    {
     "name": "stdout",
     "output_type": "stream",
     "text": [
      "Game 400 out of 1350 done\n"
     ]
    },
    {
     "name": "stderr",
     "output_type": "stream",
     "text": [
      "                                                     \r"
     ]
    },
    {
     "name": "stdout",
     "output_type": "stream",
     "text": [
      "Game 450 out of 1350 done\n"
     ]
    },
    {
     "name": "stderr",
     "output_type": "stream",
     "text": [
      "                                                     \r"
     ]
    },
    {
     "name": "stdout",
     "output_type": "stream",
     "text": [
      "Game 500 out of 1350 done\n"
     ]
    },
    {
     "name": "stderr",
     "output_type": "stream",
     "text": [
      "                                                     \r"
     ]
    },
    {
     "name": "stdout",
     "output_type": "stream",
     "text": [
      "Game 550 out of 1350 done\n"
     ]
    },
    {
     "name": "stderr",
     "output_type": "stream",
     "text": [
      "                                                     \r"
     ]
    },
    {
     "name": "stdout",
     "output_type": "stream",
     "text": [
      "Game 600 out of 1350 done\n"
     ]
    },
    {
     "name": "stderr",
     "output_type": "stream",
     "text": [
      "                                                     \r"
     ]
    },
    {
     "name": "stdout",
     "output_type": "stream",
     "text": [
      "Game 650 out of 1350 done\n"
     ]
    },
    {
     "name": "stderr",
     "output_type": "stream",
     "text": [
      "                                                     \r"
     ]
    },
    {
     "name": "stdout",
     "output_type": "stream",
     "text": [
      "Game 700 out of 1350 done\n"
     ]
    },
    {
     "name": "stderr",
     "output_type": "stream",
     "text": [
      "                                                     \r"
     ]
    },
    {
     "name": "stdout",
     "output_type": "stream",
     "text": [
      "Game 750 out of 1350 done\n"
     ]
    },
    {
     "name": "stderr",
     "output_type": "stream",
     "text": [
      "                                                     \r"
     ]
    },
    {
     "name": "stdout",
     "output_type": "stream",
     "text": [
      "Game 800 out of 1350 done\n"
     ]
    },
    {
     "name": "stderr",
     "output_type": "stream",
     "text": [
      "                                                     \r"
     ]
    },
    {
     "name": "stdout",
     "output_type": "stream",
     "text": [
      "Game 850 out of 1350 done\n"
     ]
    },
    {
     "name": "stderr",
     "output_type": "stream",
     "text": [
      "                                                     \r"
     ]
    },
    {
     "name": "stdout",
     "output_type": "stream",
     "text": [
      "Game 900 out of 1350 done\n"
     ]
    },
    {
     "name": "stderr",
     "output_type": "stream",
     "text": [
      "                                                     \r"
     ]
    },
    {
     "name": "stdout",
     "output_type": "stream",
     "text": [
      "Game 950 out of 1350 done\n"
     ]
    },
    {
     "name": "stderr",
     "output_type": "stream",
     "text": [
      "                                                     \r"
     ]
    },
    {
     "name": "stdout",
     "output_type": "stream",
     "text": [
      "Game 1000 out of 1350 done\n"
     ]
    },
    {
     "name": "stderr",
     "output_type": "stream",
     "text": [
      "                                                     \r"
     ]
    },
    {
     "name": "stdout",
     "output_type": "stream",
     "text": [
      "Game 1050 out of 1350 done\n"
     ]
    },
    {
     "name": "stderr",
     "output_type": "stream",
     "text": [
      "                                                     \r"
     ]
    },
    {
     "name": "stdout",
     "output_type": "stream",
     "text": [
      "Game 1100 out of 1350 done\n"
     ]
    },
    {
     "name": "stderr",
     "output_type": "stream",
     "text": [
      "                                                     \r"
     ]
    },
    {
     "name": "stdout",
     "output_type": "stream",
     "text": [
      "Game 1150 out of 1350 done\n"
     ]
    },
    {
     "name": "stderr",
     "output_type": "stream",
     "text": [
      "                                                        "
     ]
    },
    {
     "name": "stdout",
     "output_type": "stream",
     "text": [
      "Game 1200 out of 1350 done\n"
     ]
    },
    {
     "name": "stderr",
     "output_type": "stream",
     "text": [
      "\r"
     ]
    }
   ],
   "source": [
    "nb_games = 50\n",
    "\n",
    "nb_cheeses = np.linspace(1, 40, 3)\n",
    "maze_widths = np.linspace(2, 40, 3)\n",
    "maze_heights = np.linspace(2, 30, 3)\n",
    "\n",
    "# counter \n",
    "count = 0 \n",
    "total = len(nb_cheeses) * len(maze_widths) * len(maze_heights) * nb_games\n",
    "# Iterate over all possible combinations of number of cheeses, maze width, and maze height\n",
    "for nb_cheese in nb_cheeses:\n",
    "    for maze_width in maze_widths:\n",
    "        for maze_height in maze_heights:\n",
    "            if nb_cheese <= maze_height * maze_width:\n",
    "                _, cheeses, winners = simulations.run_several_games(program_1, program_2, nb_cheese=int(nb_cheese),\n",
    "                                                                    maze_width=int(maze_width), maze_height=int(maze_height),\n",
    "                                                                    nb_games=int(nb_games))\n",
    "                \n",
    "                # Construct the path to the DATASETS directory\n",
    "                dataset_dir = os.path.join(os.getcwd(), \"..\", \"DATASETS_SUPERVISED_LEARNING\", \"RANDOM\")\n",
    "\n",
    "                # Create the directory if it doesn't exist\n",
    "                if not os.path.exists(dataset_dir):\n",
    "                    os.makedirs(dataset_dir)\n",
    "\n",
    "                # Construct the file name\n",
    "                file_name = f\"{int(nb_games)}_games_{int(nb_cheese)}_cheeses_{int(maze_width)}x{int(maze_height)}.npz\"\n",
    "\n",
    "                # Construct the full path to the file\n",
    "                file_path = os.path.join(dataset_dir, file_name)\n",
    "\n",
    "                # Save the arrays to the file\n",
    "                np.savez(file_path, cheeses=cheeses, winners=winners)\n",
    "\n",
    "                count += nb_games\n",
    "                print(f\"Game {count} out of {total} done\")"
   ]
  }
 ],
 "metadata": {
  "kernelspec": {
   "display_name": "base",
   "language": "python",
   "name": "python3"
  },
  "language_info": {
   "codemirror_mode": {
    "name": "ipython",
    "version": 3
   },
   "file_extension": ".py",
   "mimetype": "text/x-python",
   "name": "python",
   "nbconvert_exporter": "python",
   "pygments_lexer": "ipython3",
   "version": "3.11.4"
  }
 },
 "nbformat": 4,
 "nbformat_minor": 2
}
