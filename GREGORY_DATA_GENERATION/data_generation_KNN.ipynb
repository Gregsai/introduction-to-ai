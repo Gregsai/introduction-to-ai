{
 "cells": [
  {
   "cell_type": "code",
   "execution_count": 1,
   "metadata": {},
   "outputs": [
    {
     "name": "stderr",
     "output_type": "stream",
     "text": [
      "                                                       "
     ]
    },
    {
     "name": "stdout",
     "output_type": "stream",
     "text": [
      "Game 200 out of 200 done\n"
     ]
    },
    {
     "name": "stderr",
     "output_type": "stream",
     "text": [
      "\r"
     ]
    }
   ],
   "source": [
    "# The tqdm package is useful to visualize progress with long computations. \n",
    "# Install it using pip. \n",
    "import numpy as np\n",
    "import os\n",
    "import sys\n",
    "import sys     # These lines correct a bug occuring in Notebooks.\n",
    "sys.argv=['']  # It's not perfect, but it works.\n",
    "\n",
    "import os\n",
    "lab_commons_path = os.path.join(os.getcwd(), \"..\")\n",
    "if lab_commons_path not in sys.path:\n",
    "    sys.path.append(lab_commons_path)\n",
    "\n",
    "import lab_commons.make_2_player_matches as simulations\n",
    "import lab_commons.AI.greedy as greedy_player\n",
    "import lab_commons.AI.random as random_player\n",
    "import lab_commons.AI.second_greedy as second_greedy_player\n",
    "\n",
    "program_1 = greedy_player \n",
    "program_2 = second_greedy_player \n",
    "\n",
    "nb_games = 100\n",
    "\n",
    "nb_cheeses = np.linspace(1, 40, 5)\n",
    "maze_widths = np.linspace(2, 40, 5)\n",
    "maze_heights = np.linspace(2, 40, 5)\n",
    "\n",
    "# Initialize arrays to store the results\n",
    "cheeses_games = []\n",
    "winners_games = []\n",
    "\n",
    "# counter \n",
    "count = 0 \n",
    "total = len(nb_cheeses) * len(maze_widths) * len(maze_heights) * nb_games\n",
    "# Iterate over all possible combinations of number of cheeses, maze width, and maze height\n",
    "for nb_cheese in nb_cheeses:\n",
    "    for maze_width in maze_widths:\n",
    "        for maze_height in maze_heights:\n",
    "            if nb_cheese <= maze_height * maze_width:\n",
    "                _, cheeses, winners = simulations.run_several_games(program_1, program_2, nb_cheese=int(nb_cheese),\n",
    "                                                                    maze_width=int(maze_width), maze_height=int(maze_height),\n",
    "                                                                    nb_games=int(nb_games))\n",
    "                \n",
    "                # Construct the path to the DATASETS directory\n",
    "                dataset_dir = os.path.join(os.getcwd(), \"..\", \"..\", \"DATASETS\")\n",
    "\n",
    "                # Create the directory if it doesn't exist\n",
    "                if not os.path.exists(dataset_dir):\n",
    "                    os.makedirs(dataset_dir)\n",
    "\n",
    "                # Construct the file name\n",
    "                file_name = f\"{int(nb_games)}_games_{int(nb_cheese)}_cheeses_{int(maze_width)}x{int(maze_height)}.npz\"\n",
    "\n",
    "                # Construct the full path to the file\n",
    "                file_path = os.path.join(dataset_dir, file_name)\n",
    "\n",
    "                # Save the arrays to the file\n",
    "                np.savez(file_path, cheeses=cheeses, winners=winners)\n",
    "\n",
    "                count += nb_games\n",
    "                print(f\"Game {count} out of {total} done\")"
   ]
  }
 ],
 "metadata": {
  "kernelspec": {
   "display_name": "Python 3 (ipykernel)",
   "language": "python",
   "name": "python3"
  },
  "language_info": {
   "codemirror_mode": {
    "name": "ipython",
    "version": 3
   },
   "file_extension": ".py",
   "mimetype": "text/x-python",
   "name": "python",
   "nbconvert_exporter": "python",
   "pygments_lexer": "ipython3",
   "version": "3.11.4"
  }
 },
 "nbformat": 4,
 "nbformat_minor": 2
}
