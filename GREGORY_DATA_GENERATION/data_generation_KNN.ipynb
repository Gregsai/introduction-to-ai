{
 "cells": [
  {
   "cell_type": "code",
   "execution_count": null,
   "metadata": {},
   "outputs": [
    {
     "name": "stderr",
     "output_type": "stream",
     "text": [
      "Game:  48%|████████████████████████████████████▍                                       | 24/50 [01:24<01:28,  3.42s/it]Exception ignored in: <Finalize object, dead>\n",
      "Traceback (most recent call last):\n",
      "  File \"C:\\Users\\grego\\anaconda3\\Lib\\multiprocessing\\util.py\", line 224, in __call__\n",
      "    res = self._callback(*self._args, **self._kwargs)\n",
      "          ^^^^^^^^^^^^^^^^^^^^^^^^^^^^^^^^^^^^^^^^^^^\n",
      "  File \"C:\\Users\\grego\\anaconda3\\Lib\\multiprocessing\\managers.py\", line 681, in _finalize_manager\n",
      "    process.terminate()\n",
      "  File \"C:\\Users\\grego\\anaconda3\\Lib\\multiprocessing\\process.py\", line 133, in terminate\n",
      "    self._popen.terminate()\n",
      "  File \"C:\\Users\\grego\\anaconda3\\Lib\\multiprocessing\\popen_spawn_win32.py\", line 124, in terminate\n",
      "    _winapi.TerminateProcess(int(self._handle), TERMINATE)\n",
      "PermissionError: [WinError 5] Accès refusé\n",
      "Game:  84%|███████████████████████████████████████████████████████████████▊            | 42/50 [02:45<00:34,  4.34s/it]"
     ]
    }
   ],
   "source": [
    "# The tqdm package is useful to visualize progress with long computations. \n",
    "# Install it using pip. \n",
    "import numpy as np\n",
    "import os\n",
    "import sys\n",
    "import sys     # These lines correct a bug occuring in Notebooks.\n",
    "sys.argv=['']  # It's not perfect, but it works.\n",
    "\n",
    "import os\n",
    "lab_commons_path = os.path.join(os.getcwd(), \"..\")\n",
    "if lab_commons_path not in sys.path:\n",
    "    sys.path.append(lab_commons_path)\n",
    "\n",
    "import lab_commons.make_2_player_matches as simulations\n",
    "import lab_commons.AI.greedy as greedy_player\n",
    "import lab_commons.AI.random as random_player\n",
    "import lab_commons.AI.second_greedy as second_greedy_player\n",
    "\n",
    "program_1 = greedy_player \n",
    "program_2 = second_greedy_player \n",
    "\n",
    "nb_games = 50\n",
    "\n",
    "nb_cheeses = np.linspace(1, 25, 5)\n",
    "maze_widths = np.linspace(2, 40, 5)\n",
    "maze_heights = np.linspace(2, 40, 5)\n",
    "\n",
    "# Initialize arrays to store the results\n",
    "cheeses_games = []\n",
    "winners_games = []\n",
    "\n",
    "# Iterate over all possible combinations of number of cheeses, maze width, and maze height\n",
    "for nb_cheese in nb_cheeses:\n",
    "    for maze_width in maze_widths:\n",
    "        for maze_height in maze_heights:\n",
    "            _, cheeses, winners = simulations.run_several_games(program_1, program_2, nb_cheese=int(nb_cheese),\n",
    "                                                                  maze_width=int(maze_width), maze_height=int(maze_height),\n",
    "                                                                  nb_games=nb_games)\n",
    "            \n",
    "            # Construct the path to the DATASETS directory\n",
    "            dataset_dir = os.path.join(os.getcwd(), \"..\", \"..\", \"DATASETS\")\n",
    "\n",
    "            # Create the directory if it doesn't exist\n",
    "            if not os.path.exists(dataset_dir):\n",
    "                os.makedirs(dataset_dir)\n",
    "\n",
    "            # Construct the file name\n",
    "            file_name = f\"KNN_{int(nb_games)}_games_{int(nb_cheese)}_cheeses_{int(maze_width)}x{int(maze_height)}_height.npz\"\n",
    "\n",
    "            # Construct the full path to the file\n",
    "            file_path = os.path.join(dataset_dir, file_name)\n",
    "\n",
    "            # Save the arrays to the file\n",
    "            np.savez(file_path, cheeses=cheeses, winners=winners)"
   ]
  },
  {
   "cell_type": "code",
   "execution_count": null,
   "metadata": {},
   "outputs": [],
   "source": []
  }
 ],
 "metadata": {
  "kernelspec": {
   "display_name": "Python 3 (ipykernel)",
   "language": "python",
   "name": "python3"
  },
  "language_info": {
   "codemirror_mode": {
    "name": "ipython",
    "version": 3
   },
   "file_extension": ".py",
   "mimetype": "text/x-python",
   "name": "python",
   "nbconvert_exporter": "python",
   "pygments_lexer": "ipython3",
   "version": "3.11.4"
  }
 },
 "nbformat": 4,
 "nbformat_minor": 2
}
