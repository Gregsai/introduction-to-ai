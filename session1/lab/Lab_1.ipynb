{
 "cells": [
  {
   "cell_type": "markdown",
   "metadata": {},
   "source": [
    "Introduction to Artificial Intelligence - Lab Session 1 - \n",
    "--\n",
    "At the end of this session, you will be able to : \n",
    "- Create and manage the Jupyter Notebooks environment to run code, insert text and math equations.\n",
    "- Perform basic matrix manipulations using Numpy. \n",
    "- Create signals and perform basic scientific computing using Scipy and Numpy.\n",
    "- Use the pyrat software to generate custom datasets and save it into numpy\n",
    "- Produce simple data visulisation using Matplotlib."
   ]
  },
  {
   "cell_type": "markdown",
   "metadata": {},
   "source": [
    "Part 1 - Intro to Jupyter Notebook\n",
    "--\n",
    "Here, we will only cover the basics. \n",
    "\n",
    "Jupyter Notebook is based on the .ipynb format (iPython Notebook), and is essentially a way to do rapid prototyping / demonstrations of scientific python. The basic idea is to define *cells*. \n",
    "Cells can be of several types, including python code, or rich text (using [markdown formatting](https://www.markdownguide.org/basic-syntax/)).\n",
    "\n",
    "When a code cell is evaluated (i.e. the python code will be executed), the output of this evaluation will show up right below the cell. \n",
    "\n",
    "When a text cell is evaluated, the text will be formatted. \n",
    "\n",
    "You can now do the \"User Interface Tour\" from the Help menu. "
   ]
  },
  {
   "cell_type": "markdown",
   "metadata": {},
   "source": [
    "Done ? \n",
    "\n",
    "When working with Jupyter Notebook, you will essentially switch between two modes : \n",
    "- The Edit mode in which you edit the content of the cells \n",
    "- The Command mode, that enables you to change the cell types. \n",
    "\n",
    "When in Command mode, you can select cells. If you select a single cell, you can edit it by simply pressing enter, or double clicking on it. "
   ]
  },
  {
   "cell_type": "markdown",
   "metadata": {},
   "source": [
    "For example, try editing THIS CELL and change its content. (edited by GS)"
   ]
  },
  {
   "cell_type": "markdown",
   "metadata": {},
   "source": [
    "Now, edit the cell below, change the code, and when you're done, press Shift+Enter to evalute the code. "
   ]
  },
  {
   "cell_type": "code",
   "execution_count": 3,
   "metadata": {
    "ExecuteTime": {
     "end_time": "2023-10-04T13:09:55.169824Z",
     "start_time": "2023-10-04T13:09:55.162235Z"
    }
   },
   "outputs": [
    {
     "name": "stdout",
     "output_type": "stream",
     "text": [
      "320 + 640\n"
     ]
    }
   ],
   "source": [
    "### CELL TO BE EDITED\n",
    "\n",
    "a=320\n",
    "b= 2*a      \n",
    "print(\"%d + %d\"%(a,b))"
   ]
  },
  {
   "cell_type": "markdown",
   "metadata": {},
   "source": [
    "Text cells can contain math expressions that use the Markdown formatting, in which you can use LaTEx expressions for maths (enclosed between two dollar signs). \n",
    "\n",
    "For example : $A(k) \\triangleq \\sum_{\\mathbf{n} =1}^{k}{n^2}$\n",
    "\n",
    "Now : \n",
    "- Edit the current cell to show the code that displays the math expression,\n",
    "- Create a code cell below that defines a function that calculates $A(k)$ given k, and evaluate this cell,\n",
    "- Create another cell and use the function to display $A(k)$ for a few values of $\\mathbf{k}$ (eg 10 and 20)."
   ]
  },
  {
   "cell_type": "code",
   "execution_count": 4,
   "metadata": {
    "ExecuteTime": {
     "end_time": "2023-10-04T13:09:55.177014Z",
     "start_time": "2023-10-04T13:09:55.172813Z"
    }
   },
   "outputs": [],
   "source": [
    "### CELL TO BE COMPLETED \n",
    "def a(k):\n",
    "    \"commentaire\"\n",
    "    return k * (k + 1) * (2 * k + 1) / 6 \n",
    "    "
   ]
  },
  {
   "cell_type": "code",
   "execution_count": 5,
   "metadata": {
    "ExecuteTime": {
     "end_time": "2023-10-04T13:09:55.185987Z",
     "start_time": "2023-10-04T13:09:55.181998Z"
    }
   },
   "outputs": [
    {
     "name": "stdout",
     "output_type": "stream",
     "text": [
      "385.0\n",
      "2870.0\n"
     ]
    }
   ],
   "source": [
    "### CELL TO BE COMPLETED \n",
    "print(a(10))\n",
    "print(a(20))"
   ]
  },
  {
   "cell_type": "markdown",
   "metadata": {},
   "source": [
    "Note that using Jupyter Notebook, if you evaluate a cell with a function followed by a \"?\" sign, the help of the function will pop up. \n",
    "\n",
    "Example : "
   ]
  },
  {
   "cell_type": "code",
   "execution_count": 6,
   "metadata": {
    "ExecuteTime": {
     "end_time": "2023-10-04T13:09:55.197248Z",
     "start_time": "2023-10-04T13:09:55.188989Z"
    }
   },
   "outputs": [
    {
     "name": "stdout",
     "output_type": "stream",
     "text": [
      "\u001b[1;31mSignature:\u001b[0m \u001b[0mos\u001b[0m\u001b[1;33m.\u001b[0m\u001b[0mlistdir\u001b[0m\u001b[1;33m(\u001b[0m\u001b[0mpath\u001b[0m\u001b[1;33m=\u001b[0m\u001b[1;32mNone\u001b[0m\u001b[1;33m)\u001b[0m\u001b[1;33m\u001b[0m\u001b[1;33m\u001b[0m\u001b[0m\n",
      "\u001b[1;31mDocstring:\u001b[0m\n",
      "Return a list containing the names of the files in the directory.\n",
      "\n",
      "path can be specified as either str, bytes, or a path-like object.  If path is bytes,\n",
      "  the filenames returned will also be bytes; in all other circumstances\n",
      "  the filenames returned will be str.\n",
      "If path is None, uses the path='.'.\n",
      "On some platforms, path may also be specified as an open file descriptor;\\\n",
      "  the file descriptor must refer to a directory.\n",
      "  If this functionality is unavailable, using it raises NotImplementedError.\n",
      "\n",
      "The list is in arbitrary order.  It does not include the special\n",
      "entries '.' and '..' even if they are present in the directory.\n",
      "\u001b[1;31mType:\u001b[0m      builtin_function_or_method"
     ]
    },
    {
     "name": "stdout",
     "output_type": "stream",
     "text": [
      "\u001b[1;31mSignature:\u001b[0m \u001b[0mos\u001b[0m\u001b[1;33m.\u001b[0m\u001b[0mlistdir\u001b[0m\u001b[1;33m(\u001b[0m\u001b[0mpath\u001b[0m\u001b[1;33m=\u001b[0m\u001b[1;32mNone\u001b[0m\u001b[1;33m)\u001b[0m\u001b[1;33m\u001b[0m\u001b[1;33m\u001b[0m\u001b[0m\n",
      "\u001b[1;31mDocstring:\u001b[0m\n",
      "Return a list containing the names of the files in the directory.\n",
      "\n",
      "path can be specified as either str, bytes, or a path-like object.  If path is bytes,\n",
      "  the filenames returned will also be bytes; in all other circumstances\n",
      "  the filenames returned will be str.\n",
      "If path is None, uses the path='.'.\n",
      "On some platforms, path may also be specified as an open file descriptor;\\\n",
      "  the file descriptor must refer to a directory.\n",
      "  If this functionality is unavailable, using it raises NotImplementedError.\n",
      "\n",
      "The list is in arbitrary order.  It does not include the special\n",
      "entries '.' and '..' even if they are present in the directory.\n",
      "\u001b[1;31mType:\u001b[0m      builtin_function_or_method"
     ]
    }
   ],
   "source": [
    "import os\n",
    "\n",
    "os.listdir?"
   ]
  },
  {
   "cell_type": "markdown",
   "metadata": {},
   "source": [
    "You can also display the code of a function using the syntax \"??\" "
   ]
  },
  {
   "cell_type": "code",
   "execution_count": 7,
   "metadata": {
    "ExecuteTime": {
     "end_time": "2023-10-04T13:09:55.205441Z",
     "start_time": "2023-10-04T13:09:55.200244Z"
    }
   },
   "outputs": [
    {
     "name": "stdout",
     "output_type": "stream",
     "text": [
      "Object `A` not found.\n"
     ]
    }
   ],
   "source": [
    "A??"
   ]
  },
  {
   "cell_type": "markdown",
   "metadata": {},
   "source": [
    "The popup can be closed by pressing the Escape key. \n",
    "\n",
    "Use the listdir function to browse the content of some directories... \n"
   ]
  },
  {
   "cell_type": "code",
   "execution_count": 14,
   "metadata": {
    "ExecuteTime": {
     "end_time": "2023-10-04T13:09:55.212097Z",
     "start_time": "2023-10-04T13:09:55.208439Z"
    }
   },
   "outputs": [
    {
     "data": {
      "text/plain": [
       "['random_1.py',\n",
       " 'random_2.py',\n",
       " 'random_3.py',\n",
       " 'template.py',\n",
       " 'template_2players.py',\n",
       " 'tutorial.py']"
      ]
     },
     "execution_count": 14,
     "metadata": {},
     "output_type": "execute_result"
    }
   ],
   "source": [
    "### CELL TO BE COMPLETED \n",
    "\n",
    "directory = r\"../../../pyrat_workspace/programs\"\n",
    "os.listdir(directory)"
   ]
  },
  {
   "cell_type": "markdown",
   "metadata": {},
   "source": [
    "Part 2 - Introduction to Numpy, Scipy and Matplotlib \n",
    "--"
   ]
  },
  {
   "cell_type": "markdown",
   "metadata": {},
   "source": [
    "A code cell can contain any python code, including imports. Let's start by importing the Numpy package. "
   ]
  },
  {
   "cell_type": "code",
   "execution_count": 50,
   "metadata": {
    "ExecuteTime": {
     "end_time": "2023-10-04T13:09:55.408562Z",
     "start_time": "2023-10-04T13:09:55.215094Z"
    }
   },
   "outputs": [],
   "source": [
    "import numpy as np"
   ]
  },
  {
   "cell_type": "markdown",
   "metadata": {},
   "source": [
    "Numpy can be used to generate pseudo-random values from various distributions. In particular, a very useful distribution is the standard normal (zero mean and unit variance). Let's generate two vectors sampled from the normal distribution, using a length parameter that we'll be able to change if needed. "
   ]
  },
  {
   "cell_type": "code",
   "execution_count": 51,
   "metadata": {
    "ExecuteTime": {
     "end_time": "2023-10-04T13:09:55.422386Z",
     "start_time": "2023-10-04T13:09:55.415553Z"
    }
   },
   "outputs": [],
   "source": [
    "length = 50\n",
    "\n",
    "vecA = np.random.randn(length)\n",
    "vecB = np.random.randn(2*length)"
   ]
  },
  {
   "cell_type": "markdown",
   "metadata": {},
   "source": [
    "vecA and vecB are numpy *arrays*. One of their attributes can be fetched to check their *shape*"
   ]
  },
  {
   "cell_type": "code",
   "execution_count": 19,
   "metadata": {
    "ExecuteTime": {
     "end_time": "2023-10-04T13:09:55.446081Z",
     "start_time": "2023-10-04T13:09:55.428374Z"
    }
   },
   "outputs": [
    {
     "name": "stdout",
     "output_type": "stream",
     "text": [
      "(50,)\n",
      "(100,)\n"
     ]
    }
   ],
   "source": [
    "print(vecA.shape)\n",
    "print(vecB.shape)"
   ]
  },
  {
   "cell_type": "code",
   "execution_count": 20,
   "metadata": {
    "ExecuteTime": {
     "end_time": "2023-10-04T13:09:55.459036Z",
     "start_time": "2023-10-04T13:09:55.453054Z"
    }
   },
   "outputs": [
    {
     "name": "stdout",
     "output_type": "stream",
     "text": [
      "[ 0.31649264 -0.17984438  0.49408144  0.76195041  1.69074986  0.28476811\n",
      " -0.77619546  0.65767272  1.57021825 -0.64996948  1.10015616  2.08236231\n",
      "  0.97586367  0.44887997 -0.09871351  0.83665565  1.35750651 -0.42993467\n",
      " -0.41792447  1.25000719  0.17421583  0.54206359  0.18806927  1.02590909\n",
      "  0.86066653  0.49150176 -0.42598492 -0.9714961  -1.52803095  0.62423104\n",
      "  0.61368851  0.23298664 -0.23743146 -2.89210428  1.61919468 -1.16288787\n",
      "  0.30231493 -0.54654158 -0.1735304   1.26624634 -1.97546511  0.94353389\n",
      "  1.72714385 -0.75190622 -2.75003879 -0.23158978 -0.84853639 -0.52263086\n",
      "  1.50627005  0.23515253]\n"
     ]
    }
   ],
   "source": [
    "print(vecA)"
   ]
  },
  {
   "cell_type": "markdown",
   "metadata": {},
   "source": [
    "Numpy arrays can be vectors as well as matrices, or any tensor. For example the following code will create tensors with 3 dimensions using the standard normal"
   ]
  },
  {
   "cell_type": "code",
   "execution_count": 21,
   "metadata": {
    "ExecuteTime": {
     "end_time": "2023-10-04T13:09:55.472087Z",
     "start_time": "2023-10-04T13:09:55.462028Z"
    }
   },
   "outputs": [
    {
     "name": "stdout",
     "output_type": "stream",
     "text": [
      "(3, 500, 4)\n"
     ]
    }
   ],
   "source": [
    "arrayC = np.random.randn(3,500,4)\n",
    "print(arrayC.shape)"
   ]
  },
  {
   "cell_type": "markdown",
   "metadata": {},
   "source": [
    "Note that the random package of Numpy has several other interesting functions. Try to test the two functions proposed in the cell below. \n",
    "\n",
    "Try uncommenting the two functions below one by one, look up their help page, and try to use them. "
   ]
  },
  {
   "cell_type": "code",
   "execution_count": 58,
   "metadata": {
    "ExecuteTime": {
     "end_time": "2023-10-04T13:09:55.478052Z",
     "start_time": "2023-10-04T13:09:55.474080Z"
    }
   },
   "outputs": [
    {
     "name": "stdout",
     "output_type": "stream",
     "text": [
      "[0 1 1 1 2 2 1 0 1 0]\n",
      "[1 1 1 0 1 1 0 0 2 2]\n"
     ]
    }
   ],
   "source": [
    "### CELL TO BE Edited \n",
    "\n",
    "testRandint = np.random.randint(3,size=10)\n",
    "print (testRandint)\n",
    "testPermutation = np.random.permutation(testRandint)\n",
    "print (testPermutation)"
   ]
  },
  {
   "cell_type": "markdown",
   "metadata": {},
   "source": [
    "A very important features of arrays is the fact they can be used as *iterables*. For example, you can iterate over the dimensions of an array by simply \"looping\" over it using a *for* loop"
   ]
  },
  {
   "cell_type": "code",
   "execution_count": 23,
   "metadata": {
    "ExecuteTime": {
     "end_time": "2023-10-04T13:09:55.487184Z",
     "start_time": "2023-10-04T13:09:55.482047Z"
    }
   },
   "outputs": [
    {
     "name": "stdout",
     "output_type": "stream",
     "text": [
      "(500, 4)\n",
      "(500, 4)\n",
      "(500, 4)\n"
     ]
    }
   ],
   "source": [
    "for curdim in arrayC:\n",
    "    print(curdim.shape)"
   ]
  },
  {
   "cell_type": "markdown",
   "metadata": {},
   "source": [
    "Also possible to enumerate along the dimension in order to get the index of the current \"smaller\" array\n"
   ]
  },
  {
   "cell_type": "code",
   "execution_count": 24,
   "metadata": {
    "ExecuteTime": {
     "end_time": "2023-10-04T13:09:55.499390Z",
     "start_time": "2023-10-04T13:09:55.490187Z"
    }
   },
   "outputs": [
    {
     "name": "stdout",
     "output_type": "stream",
     "text": [
      "Initial shape is 3 500 4\n",
      "Iterating over the first dimension using an index k\n",
      "k = 0, shape is 500 4\n",
      "k = 1, shape is 500 4\n",
      "k = 2, shape is 500 4\n"
     ]
    }
   ],
   "source": [
    "print('Initial shape is %d %d %d' % (arrayC.shape[0],arrayC.shape[1],arrayC.shape[2]))\n",
    "print('Iterating over the first dimension using an index k')\n",
    "for k,curdim in enumerate(arrayC):\n",
    "    print('k = %d, shape is %d %d' % (k,curdim.shape[0],curdim.shape[1]))"
   ]
  },
  {
   "cell_type": "markdown",
   "metadata": {},
   "source": [
    "Use the previous principle in order to calculate the average of each 500x4 subvector, using the function np.mean()"
   ]
  },
  {
   "cell_type": "code",
   "execution_count": 73,
   "metadata": {
    "ExecuteTime": {
     "end_time": "2023-10-04T13:09:55.507255Z",
     "start_time": "2023-10-04T13:09:55.503386Z"
    }
   },
   "outputs": [
    {
     "name": "stdout",
     "output_type": "stream",
     "text": [
      "Averages of each 500x4 subvector:  [0.0254328  0.0284864  0.02962074]\n"
     ]
    }
   ],
   "source": [
    "### CELL TO BE COMPLETED \n",
    "averages = np.empty(arrayC.shape[0])\n",
    "\n",
    "for k, curdim in enumerate(arrayC):\n",
    "    averages[k] = np.mean(curdim)\n",
    "\n",
    "print(\"Averages of each 500x4 subvector: \", averages)"
   ]
  },
  {
   "cell_type": "markdown",
   "metadata": {},
   "source": [
    "Check that you obtain the same result when directly computing the average over the two axis 1 and 2 (look up the arguments of np.mean) "
   ]
  },
  {
   "cell_type": "code",
   "execution_count": 77,
   "metadata": {
    "ExecuteTime": {
     "end_time": "2023-10-04T13:09:55.514530Z",
     "start_time": "2023-10-04T13:09:55.510252Z"
    }
   },
   "outputs": [
    {
     "name": "stdout",
     "output_type": "stream",
     "text": [
      "Averages calculated directly over axes 1 and 2:  [0.0254328  0.0284864  0.02962074]\n"
     ]
    }
   ],
   "source": [
    "### CELL TO BE COMPLETED \n",
    "averages_direct = np.mean(arrayC, axis=(1, 2))\n",
    "\n",
    "print(\"Averages calculated directly over axes 1 and 2: \", averages_direct)"
   ]
  },
  {
   "cell_type": "markdown",
   "metadata": {},
   "source": [
    "These features will prove to be very useful when manipulate large arrays. "
   ]
  },
  {
   "cell_type": "markdown",
   "metadata": {},
   "source": [
    "Another important operation when working with Numpy Arrays is *reshaping*. Essentially, *reshaping* consists in changing the organisation of the array (in terms of dimension), while keeping the same number of elements. For example, a 20x10 2D array can be converted into a 4x5x10 array"
   ]
  },
  {
   "cell_type": "code",
   "execution_count": 27,
   "metadata": {
    "ExecuteTime": {
     "end_time": "2023-10-04T13:09:55.538370Z",
     "start_time": "2023-10-04T13:09:55.523518Z"
    }
   },
   "outputs": [
    {
     "name": "stdout",
     "output_type": "stream",
     "text": [
      "Initial shape of A is 10 x 20\n",
      "[[4 2 4 4 2 4 4 4 4 4 2 3 3 4 3 3 1 4 3 2]\n",
      " [2 4 4 4 4 4 3 1 3 4 2 2 4 3 4 3 3 3 3 3]\n",
      " [1 1 4 3 4 2 2 1 4 2 1 2 4 1 4 1 1 3 3 3]\n",
      " [2 3 1 1 4 2 4 4 1 1 2 2 1 4 4 3 3 1 3 2]\n",
      " [4 3 4 1 1 1 1 3 4 2 3 3 1 2 4 2 4 2 4 2]\n",
      " [4 4 2 2 3 1 2 4 3 3 3 2 3 3 1 2 3 1 2 4]\n",
      " [4 1 2 2 2 1 4 2 1 3 2 4 3 4 2 3 1 3 2 1]\n",
      " [3 3 2 2 3 4 3 3 3 1 1 4 3 2 3 4 1 1 1 3]\n",
      " [4 2 4 1 3 4 4 1 3 3 1 1 2 1 4 2 2 3 1 3]\n",
      " [4 1 3 2 3 3 2 1 1 4 3 2 1 4 2 2 1 1 1 1]]\n",
      "B is A reshaped to 4 x 5 x 10\n",
      "[[[4 2 4 4 2 4 4 4 4 4]\n",
      "  [2 3 3 4 3 3 1 4 3 2]\n",
      "  [2 4 4 4 4 4 3 1 3 4]\n",
      "  [2 2 4 3 4 3 3 3 3 3]\n",
      "  [1 1 4 3 4 2 2 1 4 2]]\n",
      "\n",
      " [[1 2 4 1 4 1 1 3 3 3]\n",
      "  [2 3 1 1 4 2 4 4 1 1]\n",
      "  [2 2 1 4 4 3 3 1 3 2]\n",
      "  [4 3 4 1 1 1 1 3 4 2]\n",
      "  [3 3 1 2 4 2 4 2 4 2]]\n",
      "\n",
      " [[4 4 2 2 3 1 2 4 3 3]\n",
      "  [3 2 3 3 1 2 3 1 2 4]\n",
      "  [4 1 2 2 2 1 4 2 1 3]\n",
      "  [2 4 3 4 2 3 1 3 2 1]\n",
      "  [3 3 2 2 3 4 3 3 3 1]]\n",
      "\n",
      " [[1 4 3 2 3 4 1 1 1 3]\n",
      "  [4 2 4 1 3 4 4 1 3 3]\n",
      "  [1 1 2 1 4 2 2 3 1 3]\n",
      "  [4 1 3 2 3 3 2 1 1 4]\n",
      "  [3 2 1 4 2 2 1 1 1 1]]]\n"
     ]
    }
   ],
   "source": [
    "A = np.random.randint(1,5,(10,20))\n",
    "print('Initial shape of A is %d x %d' % (A.shape[0],A.shape[1]))\n",
    "print(A)\n",
    "B = A.reshape((4,5,10))\n",
    "print('B is A reshaped to %d x %d x %d' % (B.shape[0],B.shape[1],B.shape[2]))\n",
    "print(B)"
   ]
  },
  {
   "cell_type": "markdown",
   "metadata": {},
   "source": [
    "Now try implementing the same function $A(k)$ that we implemented in part 1 using numpy.\n",
    "\n",
    "Recall that $A(k) \\triangleq \\sum_{\\mathbf{n} =1}^{k}{n^2}$\n",
    "\n",
    "The following numpy auxiliary functions can help you:\n",
    "   - power: (np.power(base,exponent), example: np.power(2,2) = 4\n",
    "   - arange: (np.arange(last element), example: np.arange(5) = [0,1,2,3,4]\n",
    "   - sum: (np.sum(vector), example: np.sum([0,1,2,3]) = 6"
   ]
  },
  {
   "cell_type": "code",
   "execution_count": 81,
   "metadata": {
    "ExecuteTime": {
     "end_time": "2023-10-04T13:09:55.545158Z",
     "start_time": "2023-10-04T13:09:55.540369Z"
    }
   },
   "outputs": [
    {
     "data": {
      "text/plain": [
       "2870"
      ]
     },
     "execution_count": 81,
     "metadata": {},
     "output_type": "execute_result"
    }
   ],
   "source": [
    "### CELL TO BE COMPLETED \n",
    "def a(k):\n",
    "    return np.sum(np.power(np.arange(k+1),2))\n",
    "\n",
    "a(20)"
   ]
  },
  {
   "cell_type": "markdown",
   "metadata": {},
   "source": [
    "One property of numpy that is really important is broadcasting. The goal of broadcasting is to simplify the vectorization of certain operations when the vectors do not have the same shape. For example you can easily perform element-wise multiplication.\n",
    "\n",
    "To test this try doing an element-wise multiplication of the vector x and matrix y below"
   ]
  },
  {
   "cell_type": "code",
   "execution_count": 82,
   "metadata": {
    "ExecuteTime": {
     "end_time": "2023-10-04T13:09:55.557035Z",
     "start_time": "2023-10-04T13:09:55.548158Z"
    }
   },
   "outputs": [
    {
     "name": "stdout",
     "output_type": "stream",
     "text": [
      "X:  [2 3]\n",
      "Y: \n",
      "[[ 4  1]\n",
      " [ 9 10]\n",
      " [12 13]]\n",
      "X shape is:  (2,)\n",
      "Y shape is:  (3, 2)\n",
      "Element-wise multiplication shape: (3, 2)\n",
      "Element-wise multiplication result:\n",
      "[[ 8  3]\n",
      " [18 30]\n",
      " [24 39]]\n"
     ]
    }
   ],
   "source": [
    "x = np.array([2,3])\n",
    "y = np.array([[4,1],[9,10],[12,13]])\n",
    "result = x*y\n",
    "print(\"X: \",x)\n",
    "print(\"Y: \")\n",
    "print(y)\n",
    "print(\"X shape is: \",x.shape)\n",
    "print(\"Y shape is: \",y.shape)\n",
    "print(\"Element-wise multiplication shape:\", result.shape)\n",
    "print(\"Element-wise multiplication result:\")\n",
    "print(result)\n"
   ]
  },
  {
   "cell_type": "markdown",
   "metadata": {},
   "source": [
    "Another very powerful tool in numpy is indexing. You can use either an integer vector or a boolean vector to choose which indexes you want to extract from your numpy tensor.\n",
    "\n",
    "Consider that we want to extract all elements from the first line of your vector y that have a higher value than 1, you would have to do:"
   ]
  },
  {
   "cell_type": "code",
   "execution_count": 83,
   "metadata": {
    "ExecuteTime": {
     "end_time": "2023-10-04T13:09:55.566102Z",
     "start_time": "2023-10-04T13:09:55.560031Z"
    }
   },
   "outputs": [
    {
     "name": "stdout",
     "output_type": "stream",
     "text": [
      "Result:  [4]\n"
     ]
    }
   ],
   "source": [
    "first_row = y[0]\n",
    "first_row_higher_than_one = first_row > 1\n",
    "print(\"Result: \", first_row[first_row_higher_than_one])"
   ]
  },
  {
   "cell_type": "markdown",
   "metadata": {},
   "source": [
    "You can also choose specific lines to query, for example if you want to query lines 0 and 2"
   ]
  },
  {
   "cell_type": "code",
   "execution_count": 85,
   "metadata": {
    "ExecuteTime": {
     "end_time": "2023-10-04T13:09:55.576671Z",
     "start_time": "2023-10-04T13:09:55.570090Z"
    }
   },
   "outputs": [
    {
     "name": "stdout",
     "output_type": "stream",
     "text": [
      "Result:  [ 4 12 13]\n"
     ]
    }
   ],
   "source": [
    "rows = [0,2]\n",
    "rows_result = y[rows]\n",
    "values_higher_than_one = rows_result > 1\n",
    "print(\"Result: \", rows_result[values_higher_than_one])"
   ]
  },
  {
   "cell_type": "markdown",
   "metadata": {},
   "source": [
    "You can also save and load your numpy tensors using np.savez and np.load. This will be really important in the next courses as this enable you to generate your data only once instead of having to do all the calculations every time you need your data."
   ]
  },
  {
   "cell_type": "code",
   "execution_count": 32,
   "metadata": {
    "ExecuteTime": {
     "end_time": "2023-10-04T13:09:55.595639Z",
     "start_time": "2023-10-04T13:09:55.579668Z"
    }
   },
   "outputs": [],
   "source": [
    "filename = \"x.npz\"\n",
    "source_tensor = x\n",
    "np.savez(filename,data=source_tensor)"
   ]
  },
  {
   "cell_type": "code",
   "execution_count": 86,
   "metadata": {
    "ExecuteTime": {
     "end_time": "2023-10-04T13:09:55.606864Z",
     "start_time": "2023-10-04T13:09:55.598636Z"
    }
   },
   "outputs": [
    {
     "name": "stdout",
     "output_type": "stream",
     "text": [
      "Your tensor was loaded and contains:  [2 3]\n"
     ]
    }
   ],
   "source": [
    "loaded_npz = np.load(filename)\n",
    "loaded_tensor = loaded_npz[\"data\"]\n",
    "print(\"Your tensor was loaded and contains: \", loaded_tensor)"
   ]
  },
  {
   "cell_type": "markdown",
   "metadata": {},
   "source": [
    "Part 3 - Setup of the pyrat software and generating games\n",
    "--\n"
   ]
  },
  {
   "cell_type": "markdown",
   "metadata": {},
   "source": [
    "If you have not done so already, you need the latest version of PyRat. To obtain it, open a terminal and run:\n",
    "\n",
    "`python -m pip install --user git+https://github.com/BastienPasdeloup/PyRat.git`\n",
    "\n",
    "A complete guide is available at https://formations.imt-atlantique.fr/pyrat/install/"
   ]
  },
  {
   "cell_type": "code",
   "execution_count": 34,
   "metadata": {
    "ExecuteTime": {
     "end_time": "2023-10-04T13:09:55.615601Z",
     "start_time": "2023-10-04T13:09:55.611858Z"
    }
   },
   "outputs": [],
   "source": [
    "### TO DO: open a terminal tab / window and clone the repo."
   ]
  },
  {
   "cell_type": "code",
   "execution_count": 35,
   "metadata": {},
   "outputs": [
    {
     "name": "stdout",
     "output_type": "stream",
     "text": [
      "Package                       Version\n",
      "----------------------------- ---------------\n",
      "aiobotocore                   2.4.2\n",
      "aiofiles                      22.1.0\n",
      "aiohttp                       3.8.3\n",
      "aioitertools                  0.7.1\n",
      "aiosignal                     1.2.0\n",
      "aiosqlite                     0.18.0\n",
      "alabaster                     0.7.12\n",
      "anaconda-anon-usage           0.4.2\n",
      "anaconda-catalogs             0.2.0\n",
      "anaconda-client               1.12.0\n",
      "anaconda-cloud-auth           0.1.3\n",
      "anaconda-navigator            2.5.0\n",
      "anaconda-project              0.11.1\n",
      "anyio                         3.5.0\n",
      "appdirs                       1.4.4\n",
      "argon2-cffi                   21.3.0\n",
      "argon2-cffi-bindings          21.2.0\n",
      "arrow                         1.2.3\n",
      "astroid                       2.14.2\n",
      "astropy                       5.1\n",
      "asttokens                     2.0.5\n",
      "async-timeout                 4.0.2\n",
      "atomicwrites                  1.4.0\n",
      "attrs                         22.1.0\n",
      "Automat                       20.2.0\n",
      "autopep8                      1.6.0\n",
      "Babel                         2.11.0\n",
      "backcall                      0.2.0\n",
      "backports.functools-lru-cache 1.6.4\n",
      "backports.tempfile            1.0\n",
      "backports.weakref             1.0.post1\n",
      "bcrypt                        3.2.0\n",
      "beautifulsoup4                4.12.2\n",
      "binaryornot                   0.4.4\n",
      "black                         0.0\n",
      "bleach                        4.1.0\n",
      "bokeh                         3.2.1\n",
      "boltons                       23.0.0\n",
      "boto3                         1.24.28\n",
      "botocore                      1.27.59\n",
      "Bottleneck                    1.3.5\n",
      "brotlipy                      0.7.0\n",
      "certifi                       2023.7.22\n",
      "cffi                          1.15.1\n",
      "chardet                       4.0.0\n",
      "charset-normalizer            2.0.4\n",
      "click                         8.0.4\n",
      "cloudpickle                   2.2.1\n",
      "clyent                        1.2.2\n",
      "colorama                      0.4.6\n",
      "colorcet                      3.0.1\n",
      "colored                       2.2.4\n",
      "comm                          0.1.2\n",
      "conda                         23.7.4\n",
      "conda-build                   3.26.0\n",
      "conda-content-trust           0.2.0\n",
      "conda_index                   0.2.3\n",
      "conda-libmamba-solver         23.5.0\n",
      "conda-pack                    0.6.0\n",
      "conda-package-handling        2.2.0\n",
      "conda_package_streaming       0.9.0\n",
      "conda-repo-cli                1.0.41\n",
      "conda-token                   0.4.0\n",
      "conda-verify                  3.4.2\n",
      "constantly                    15.1.0\n",
      "contourpy                     1.2.1\n",
      "cookiecutter                  1.7.3\n",
      "cryptography                  41.0.2\n",
      "cssselect                     1.1.0\n",
      "cycler                        0.12.1\n",
      "cytoolz                       0.12.0\n",
      "daal4py                       2023.1.1\n",
      "dask                          2023.6.0\n",
      "datashader                    0.15.1\n",
      "datashape                     0.5.4\n",
      "debugpy                       1.6.7\n",
      "decorator                     5.1.1\n",
      "defusedxml                    0.7.1\n",
      "diff-match-patch              20200713\n",
      "dill                          0.3.6\n",
      "distinctipy                   1.3.4\n",
      "distributed                   2023.6.0\n",
      "docstring-to-markdown         0.11\n",
      "docutils                      0.18.1\n",
      "entrypoints                   0.4\n",
      "et-xmlfile                    1.1.0\n",
      "executing                     0.8.3\n",
      "Farama-Notifications          0.0.4\n",
      "fastjsonschema                2.16.2\n",
      "filelock                      3.9.0\n",
      "flake8                        6.0.0\n",
      "Flask                         2.2.2\n",
      "fonttools                     4.50.0\n",
      "frozenlist                    1.3.3\n",
      "fsspec                        2023.3.0\n",
      "future                        0.18.3\n",
      "gensim                        4.3.0\n",
      "glob2                         0.7\n",
      "greenlet                      2.0.1\n",
      "gymnasium                     0.29.1\n",
      "h5py                          3.7.0\n",
      "HeapDict                      1.0.1\n",
      "holoviews                     1.17.0\n",
      "hvplot                        0.8.4\n",
      "hyperlink                     21.0.0\n",
      "idna                          3.4\n",
      "imagecodecs                   2021.8.26\n",
      "imageio                       2.26.0\n",
      "imagesize                     1.4.1\n",
      "imbalanced-learn              0.10.1\n",
      "importlib-metadata            6.0.0\n",
      "incremental                   21.3.0\n",
      "inflection                    0.5.1\n",
      "iniconfig                     1.1.1\n",
      "intake                        0.6.8\n",
      "intervaltree                  3.1.0\n",
      "ipykernel                     6.19.2\n",
      "ipython                       8.12.0\n",
      "ipython-genutils              0.2.0\n",
      "ipywidgets                    8.0.4\n",
      "isort                         5.9.3\n",
      "itemadapter                   0.3.0\n",
      "itemloaders                   1.0.4\n",
      "itsdangerous                  2.0.1\n",
      "jaraco.classes                3.2.1\n",
      "jedi                          0.18.1\n",
      "jellyfish                     0.9.0\n",
      "Jinja2                        3.1.2\n",
      "jinja2-time                   0.2.0\n",
      "jmespath                      0.10.0\n",
      "joblib                        1.2.0\n",
      "json5                         0.9.6\n",
      "jsonpatch                     1.32\n",
      "jsonpointer                   2.1\n",
      "jsonschema                    4.17.3\n",
      "jupyter                       1.0.0\n",
      "jupyter_client                7.4.9\n",
      "jupyter-console               6.6.3\n",
      "jupyter_core                  5.3.0\n",
      "jupyter-events                0.6.3\n",
      "jupyter-server                1.23.4\n",
      "jupyter_server_fileid         0.9.0\n",
      "jupyter_server_ydoc           0.8.0\n",
      "jupyter-ydoc                  0.2.4\n",
      "jupyterlab                    3.6.3\n",
      "jupyterlab-pygments           0.1.2\n",
      "jupyterlab_server             2.22.0\n",
      "jupyterlab-widgets            3.0.5\n",
      "keyring                       23.13.1\n",
      "kiwisolver                    1.4.5\n",
      "lazy_loader                   0.2\n",
      "lazy-object-proxy             1.6.0\n",
      "libarchive-c                  2.9\n",
      "libmambapy                    1.4.1\n",
      "linkify-it-py                 2.0.0\n",
      "llvmlite                      0.40.0\n",
      "lmdb                          1.4.1\n",
      "locket                        1.0.0\n",
      "lxml                          4.9.2\n",
      "lz4                           4.3.2\n",
      "Markdown                      3.4.1\n",
      "markdown-it-py                2.2.0\n",
      "MarkupSafe                    2.1.1\n",
      "matplotlib                    3.8.4\n",
      "matplotlib-inline             0.1.6\n",
      "mccabe                        0.7.0\n",
      "mdit-py-plugins               0.3.0\n",
      "mdurl                         0.1.0\n",
      "menuinst                      1.4.19\n",
      "mistune                       0.8.4\n",
      "mkl-fft                       1.3.6\n",
      "mkl-random                    1.2.2\n",
      "mkl-service                   2.4.0\n",
      "more-itertools                8.12.0\n",
      "mpmath                        1.3.0\n",
      "msgpack                       1.0.3\n",
      "multidict                     6.0.2\n",
      "multipledispatch              0.6.0\n",
      "munkres                       1.1.4\n",
      "mypy-extensions               0.4.3\n",
      "navigator-updater             0.4.0\n",
      "nbclassic                     0.5.5\n",
      "nbclient                      0.5.13\n",
      "nbconvert                     6.5.4\n",
      "nbformat                      5.7.0\n",
      "nest-asyncio                  1.5.6\n",
      "networkx                      3.1\n",
      "nltk                          3.8.1\n",
      "notebook                      6.5.4\n",
      "notebook_shim                 0.2.2\n",
      "numba                         0.57.0\n",
      "numexpr                       2.8.4\n",
      "numpy                         1.24.3\n",
      "numpydoc                      1.5.0\n",
      "openpyxl                      3.0.10\n",
      "packaging                     24.0\n",
      "pandas                        1.5.3\n",
      "pandocfilters                 1.5.0\n",
      "panel                         1.2.1\n",
      "param                         1.13.0\n",
      "paramiko                      2.8.1\n",
      "parsel                        1.6.0\n",
      "parso                         0.8.3\n",
      "partd                         1.2.0\n",
      "pathlib                       1.0.1\n",
      "pathspec                      0.10.3\n",
      "patsy                         0.5.3\n",
      "pep8                          1.7.1\n",
      "pexpect                       4.8.0\n",
      "pickleshare                   0.7.5\n",
      "Pillow                        9.4.0\n",
      "pip                           23.2.1\n",
      "pkce                          1.0.3\n",
      "pkginfo                       1.9.6\n",
      "platformdirs                  2.5.2\n",
      "plotly                        5.9.0\n",
      "pluggy                        1.0.0\n",
      "ply                           3.11\n",
      "pooch                         1.4.0\n",
      "poyo                          0.5.0\n",
      "prometheus-client             0.14.1\n",
      "prompt-toolkit                3.0.36\n",
      "Protego                       0.1.16\n",
      "psutil                        5.9.0\n",
      "ptyprocess                    0.7.0\n",
      "pure-eval                     0.2.2\n",
      "py-cpuinfo                    8.0.0\n",
      "pyarrow                       11.0.0\n",
      "pyasn1                        0.4.8\n",
      "pyasn1-modules                0.2.8\n",
      "pycodestyle                   2.10.0\n",
      "pycosat                       0.6.4\n",
      "pycparser                     2.21\n",
      "pyct                          0.5.0\n",
      "pycurl                        7.45.2\n",
      "pydantic                      1.10.8\n",
      "PyDispatcher                  2.0.5\n",
      "pydocstyle                    6.3.0\n",
      "pyerfa                        2.0.0\n",
      "pyflakes                      3.0.1\n",
      "pygame                        2.5.2\n",
      "Pygments                      2.15.1\n",
      "PyJWT                         2.4.0\n",
      "pylint                        2.16.2\n",
      "pylint-venv                   2.3.0\n",
      "pyls-spyder                   0.4.0\n",
      "PyNaCl                        1.5.0\n",
      "pyodbc                        4.0.34\n",
      "pyOpenSSL                     23.2.0\n",
      "pyparsing                     3.0.9\n",
      "PyQt5                         5.15.7\n",
      "PyQt5-sip                     12.11.0\n",
      "PyQtWebEngine                 5.15.4\n",
      "PyRat                         4.1.8\n",
      "pyrsistent                    0.18.0\n",
      "PySocks                       1.7.1\n",
      "pytest                        7.4.0\n",
      "python-dateutil               2.9.0.post0\n",
      "python-dotenv                 0.21.0\n",
      "python-json-logger            2.0.7\n",
      "python-lsp-black              1.2.1\n",
      "python-lsp-jsonrpc            1.0.0\n",
      "python-lsp-server             1.7.2\n",
      "python-slugify                5.0.2\n",
      "python-snappy                 0.6.1\n",
      "pytoolconfig                  1.2.5\n",
      "pytz                          2022.7\n",
      "pyviz-comms                   2.3.0\n",
      "PyWavelets                    1.4.1\n",
      "pywin32                       305.1\n",
      "pywin32-ctypes                0.2.0\n",
      "pywinpty                      2.0.10\n",
      "PyYAML                        6.0\n",
      "pyzmq                         23.2.0\n",
      "QDarkStyle                    3.0.2\n",
      "qstylizer                     0.2.2\n",
      "QtAwesome                     1.2.2\n",
      "qtconsole                     5.4.2\n",
      "QtPy                          2.2.0\n",
      "queuelib                      1.5.0\n",
      "regex                         2022.7.9\n",
      "requests                      2.31.0\n",
      "requests-file                 1.5.1\n",
      "requests-toolbelt             1.0.0\n",
      "rfc3339-validator             0.1.4\n",
      "rfc3986-validator             0.1.1\n",
      "rope                          1.7.0\n",
      "Rtree                         1.0.1\n",
      "ruamel.yaml                   0.17.21\n",
      "ruamel-yaml-conda             0.17.21\n",
      "s3fs                          2023.3.0\n",
      "s3transfer                    0.6.0\n",
      "sacremoses                    0.0.43\n",
      "scikit-image                  0.20.0\n",
      "scikit-learn                  1.3.0\n",
      "scikit-learn-intelex          20230426.121932\n",
      "scipy                         1.13.0\n",
      "Scrapy                        2.8.0\n",
      "seaborn                       0.12.2\n",
      "Send2Trash                    1.8.0\n",
      "service-identity              18.1.0\n",
      "setuptools                    68.0.0\n",
      "sip                           6.6.2\n",
      "six                           1.16.0\n",
      "smart-open                    5.2.1\n",
      "sniffio                       1.2.0\n",
      "snowballstemmer               2.2.0\n",
      "sortedcontainers              2.4.0\n",
      "soupsieve                     2.4\n",
      "Sphinx                        5.0.2\n",
      "sphinxcontrib-applehelp       1.0.2\n",
      "sphinxcontrib-devhelp         1.0.2\n",
      "sphinxcontrib-htmlhelp        2.0.0\n",
      "sphinxcontrib-jsmath          1.0.1\n",
      "sphinxcontrib-qthelp          1.0.3\n",
      "sphinxcontrib-serializinghtml 1.1.5\n",
      "spyder                        5.4.3\n",
      "spyder-kernels                2.4.3\n",
      "SQLAlchemy                    1.4.39\n",
      "stack-data                    0.2.0\n",
      "statsmodels                   0.14.0\n",
      "sympy                         1.11.1\n",
      "tables                        3.8.0\n",
      "tabulate                      0.8.10\n",
      "TBB                           0.2\n",
      "tblib                         1.7.0\n",
      "tenacity                      8.2.2\n",
      "terminado                     0.17.1\n",
      "text-unidecode                1.3\n",
      "textdistance                  4.2.1\n",
      "threadpoolctl                 2.2.0\n",
      "three-merge                   0.1.1\n",
      "tifffile                      2021.7.2\n",
      "tinycss2                      1.2.1\n",
      "tldextract                    3.2.0\n",
      "toml                          0.10.2\n",
      "tomlkit                       0.11.1\n",
      "toolz                         0.12.0\n",
      "torch                         2.1.2+cpu\n",
      "torchvision                   0.16.2+cpu\n",
      "tornado                       6.3.2\n",
      "tqdm                          4.65.0\n",
      "traitlets                     5.7.1\n",
      "transformers                  2.1.1\n",
      "Twisted                       22.10.0\n",
      "twisted-iocpsupport           1.0.2\n",
      "typing_extensions             4.7.1\n",
      "uc-micro-py                   1.0.1\n",
      "ujson                         5.4.0\n",
      "Unidecode                     1.2.0\n",
      "urllib3                       1.26.16\n",
      "w3lib                         1.21.0\n",
      "watchdog                      2.1.6\n",
      "wcwidth                       0.2.5\n",
      "webencodings                  0.5.1\n",
      "websocket-client              0.58.0\n",
      "Werkzeug                      2.2.3\n",
      "whatthepatch                  1.0.2\n",
      "wheel                         0.38.4\n",
      "widgetsnbextension            4.0.5\n",
      "win-inet-pton                 1.1.0\n",
      "wrapt                         1.14.1\n",
      "xarray                        2023.6.0\n",
      "xlwings                       0.29.1\n",
      "xyzservices                   2022.9.0\n",
      "y-py                          0.5.9\n",
      "yapf                          0.31.0\n",
      "yarl                          1.8.1\n",
      "ypy-websocket                 0.8.2\n",
      "zict                          2.2.0\n",
      "zipp                          3.11.0\n",
      "zope.interface                5.4.0\n",
      "zstandard                     0.19.0\n"
     ]
    }
   ],
   "source": [
    "!pip list"
   ]
  },
  {
   "cell_type": "markdown",
   "metadata": {},
   "source": [
    "Now, you may import PyRat."
   ]
  },
  {
   "cell_type": "code",
   "execution_count": 36,
   "metadata": {
    "ExecuteTime": {
     "end_time": "2023-10-04T13:09:55.856449Z",
     "start_time": "2023-10-04T13:09:55.617599Z"
    }
   },
   "outputs": [],
   "source": [
    "import sys     # These lines correct a bug occuring in Notebooks.\n",
    "sys.argv=['']  # It's not perfect, but it works.\n",
    "\n",
    "import os\n",
    "lab_commons_path = os.path.join(os.getcwd(), \"..\", \"..\")\n",
    "if lab_commons_path not in sys.path:\n",
    "    sys.path.append(lab_commons_path)\n",
    "\n",
    "from pyrat import *"
   ]
  },
  {
   "cell_type": "markdown",
   "metadata": {},
   "source": [
    "In the context of the AI course, we are going to simplify the rules of PyRat a bit.\n",
    "In fact, we are going to remove all walls and mud penalties. Also, we are not going to consider symmetric mazes anymore. This has already been prepared in this class.\n",
    "\n",
    "Below, you will find a function which simulates a game between two players `program_1` and `program_2`, and returns the initial locations of cheeses (initial condition) and the winner (1 for `program_1` and -1 `program_2`)."
   ]
  },
  {
   "cell_type": "code",
   "execution_count": 88,
   "metadata": {
    "ExecuteTime": {
     "end_time": "2023-10-04T13:10:08.364384Z",
     "start_time": "2023-10-04T13:09:55.864436Z"
    }
   },
   "outputs": [
    {
     "name": "stdout",
     "output_type": "stream",
     "text": [
      "Cheeses locations: [0. 0. 0. 0. 0. 0. 0. 0. 0. 0. 0. 0. 0. 0. 0. 0. 0. 0. 0. 0. 0. 0. 0. 0.\n",
      " 0. 0. 0. 0. 0. 0. 0. 0. 0. 0. 0. 0. 0. 0. 0. 0. 0. 0. 0. 0. 0. 1. 0. 0.\n",
      " 0. 0. 0. 0. 0. 0. 0. 0. 0. 0. 0. 0. 0. 0. 0. 0. 0. 0. 0. 0. 0. 0. 0. 0.\n",
      " 0. 0. 0. 0. 0. 0. 0. 0. 0. 0. 0. 0. 0. 0. 0. 0. 0. 0. 0. 0. 0. 0. 0. 0.\n",
      " 0. 1. 0. 0. 0. 0. 0. 0. 0. 0. 0. 0. 0. 0. 0. 0. 0. 0. 0. 0. 0. 0. 0. 0.\n",
      " 0. 0. 0. 0. 0. 0. 0. 0. 0. 0. 0. 0. 0. 0. 0. 0. 0. 1. 0. 0. 0. 0. 0. 0.\n",
      " 0. 0. 0. 0. 0. 0. 0. 1. 0. 0. 0. 0. 0. 0. 0. 0. 0. 0. 0. 0. 0. 0. 0. 0.\n",
      " 0. 0. 1. 0. 0. 0. 0. 0. 0. 0. 0. 0. 0. 0. 0. 1. 0. 0. 0. 0. 0. 0. 0. 0.\n",
      " 0. 0. 0. 0. 0. 0. 0. 0. 0. 0. 0. 1. 0. 0. 0. 0. 0. 0. 0. 0. 0. 0. 0. 0.\n",
      " 0. 0. 0. 0. 0. 0. 0. 0. 0.],\n",
      "Winner (1 for `program_1` and -1 `program_2`, 0 for a draw): 1.0\n"
     ]
    }
   ],
   "source": [
    "import lab_commons.make_2_player_matches as simulations\n",
    "import lab_commons.AI.greedy as greedy_player\n",
    "import lab_commons.AI.random as random_player\n",
    "import lab_commons.AI.second_greedy as second_greedy_player\n",
    "\n",
    "program_1 = greedy_player \n",
    "program_2 = second_greedy_player # You may want to test with the random player.\n",
    "\n",
    "_, cheeses_locations, winner = simulations.run_one_game(program_1, program_2, gui = True)\n",
    "print(f\"Cheeses locations: {cheeses_locations},\\nWinner (1 for `program_1` and -1 `program_2`, 0 for a draw): {winner}\")"
   ]
  },
  {
   "cell_type": "markdown",
   "metadata": {},
   "source": [
    "You can additionally modify the size of the maze and the number of cheeses to catch on the maze."
   ]
  },
  {
   "cell_type": "code",
   "execution_count": 89,
   "metadata": {
    "ExecuteTime": {
     "end_time": "2023-10-04T13:10:24.338309Z",
     "start_time": "2023-10-04T13:10:08.389523Z"
    }
   },
   "outputs": [
    {
     "name": "stdout",
     "output_type": "stream",
     "text": [
      "Cheeses locations: [0. 0. 1. 0. 0. 0. 0. 1. 0. 1. 0. 1. 0. 0. 0. 0. 0. 0. 0. 0.],\n",
      "Winner (1 for `program_1` and -1 `program_2`, 0 for a draw): -1.0\n"
     ]
    }
   ],
   "source": [
    "nb_cheese = 4\n",
    "maze_width = 4\n",
    "maze_height = 5\n",
    "\n",
    "_, cheeses_locations, winner = simulations.run_one_game(program_1, program_2, nb_cheese = nb_cheese,\n",
    "                                                     maze_width = maze_width, maze_height = maze_height, gui = True)\n",
    "print(f\"Cheeses locations: {cheeses_locations},\\nWinner (1 for `program_1` and -1 `program_2`, 0 for a draw): {winner}\")"
   ]
  },
  {
   "cell_type": "markdown",
   "metadata": {},
   "source": [
    "Finally, you can run several games with the following function, by specifying the number of desired games with `nb_games`. The function returns the initial locations of all cheeses for all games, and the winner for each game. We encourage you to turn off the user interface when runninng several games (setting `gui` to False, which is the default value)."
   ]
  },
  {
   "cell_type": "code",
   "execution_count": 90,
   "metadata": {
    "ExecuteTime": {
     "end_time": "2023-10-04T13:10:45.811504Z",
     "start_time": "2023-10-04T13:10:24.346283Z"
    }
   },
   "outputs": [
    {
     "name": "stderr",
     "output_type": "stream",
     "text": [
      "                                                     "
     ]
    },
    {
     "name": "stdout",
     "output_type": "stream",
     "text": [
      "Cheeses matrix: [array([0., 0., 1., 0., 0., 0., 0., 1., 0., 1., 0., 1., 0., 0., 0., 0., 0.,\n",
      "       0., 0., 0.]), array([0., 0., 0., 1., 1., 0., 0., 1., 0., 0., 0., 0., 0., 0., 1., 0., 0.,\n",
      "       0., 0., 0.]), array([0., 1., 0., 0., 0., 1., 0., 0., 0., 0., 1., 0., 0., 0., 0., 0., 0.,\n",
      "       1., 0., 0.]), array([0., 0., 1., 1., 0., 0., 0., 0., 0., 0., 0., 0., 1., 0., 0., 1., 0.,\n",
      "       0., 0., 0.]), array([0., 0., 0., 0., 1., 0., 0., 1., 0., 0., 0., 0., 1., 0., 0., 0., 0.,\n",
      "       1., 0., 0.]), array([0., 0., 1., 1., 0., 0., 1., 0., 0., 0., 0., 1., 0., 0., 0., 0., 0.,\n",
      "       0., 0., 0.]), array([0., 0., 0., 1., 0., 0., 1., 0., 0., 0., 0., 0., 1., 0., 0., 0., 1.,\n",
      "       0., 0., 0.]), array([0., 0., 0., 0., 0., 0., 0., 0., 0., 1., 0., 0., 0., 1., 0., 1., 0.,\n",
      "       1., 0., 0.]), array([0., 0., 0., 0., 0., 0., 0., 1., 0., 0., 0., 0., 1., 0., 0., 1., 0.,\n",
      "       1., 0., 0.]), array([0., 0., 0., 0., 1., 1., 0., 1., 0., 0., 0., 0., 0., 0., 0., 0., 1.,\n",
      "       0., 0., 0.])],\n",
      "Winners: [-1.0, 1.0, 0.0, 0.0, 0.0, 0.0, 0.0, -1.0, 0.0, 0.0]\n"
     ]
    },
    {
     "name": "stderr",
     "output_type": "stream",
     "text": [
      "\r"
     ]
    }
   ],
   "source": [
    "nb_games = 10\n",
    "\n",
    "_, cheeses_10_games, winners_10_games = simulations.run_several_games(program_1, program_2, nb_cheese = nb_cheese,\n",
    "                                                                  maze_width = maze_width, maze_height = maze_height, \n",
    "                                                                  nb_games = nb_games)\n",
    "\n",
    "print(f\"Cheeses matrix: {cheeses_10_games},\\nWinners: {winners_10_games}\")"
   ]
  },
  {
   "cell_type": "markdown",
   "metadata": {},
   "source": [
    "Part 4 - Visualizing PyRat Datasets\n",
    "--"
   ]
  },
  {
   "cell_type": "markdown",
   "metadata": {},
   "source": [
    "We've already run 500 games for you, with 4 cheeses and a maze of size 5 x 7. You can load the results in the following cell.\n",
    "\n",
    "X and Y respectively represent the cheeses position and the winner, for each game."
   ]
  },
  {
   "cell_type": "code",
   "execution_count": 94,
   "metadata": {
    "ExecuteTime": {
     "end_time": "2023-10-04T16:52:40.138539Z",
     "start_time": "2023-10-04T16:52:40.062866Z"
    }
   },
   "outputs": [
    {
     "name": "stdout",
     "output_type": "stream",
     "text": [
      "Shape of X matrix: (500, 35),\n",
      "Y matrix: [ 0.  0.  0. -1. -1.  0.  0.  1.  0.  1.  1.  1.  0.  0.  1.  0. -1.  0.\n",
      " -1. -1.  1.  0. -1. -1.  0.  0.  0.  0.  1. -1.  0.  1.  1. -1.  1. -1.\n",
      "  1.  1.  1. -1. -1.  0. -1.  0.  0.  1.  0.  1.  0.  1.  0. -1. -1.  0.\n",
      "  0.  1.  0.  0. -1. -1. -1.  0. -1. -1.  0.  0.  1.  0.  0.  1.  0. -1.\n",
      "  1. -1.  0.  0.  0.  0.  0. -1.  1.  0.  0.  0.  0.  0.  1. -1.  0.  1.\n",
      "  0.  0.  0.  0.  1. -1. -1.  0.  0.  0.  0.  0. -1. -1.  0.  0. -1. -1.\n",
      "  0.  1.  0. -1.  0. -1.  0. -1.  0. -1.  0.  0. -1. -1. -1.  0.  0. -1.\n",
      "  0.  0.  1. -1.  0.  1.  0.  0.  0.  0.  0. -1.  1.  0.  0.  0.  1. -1.\n",
      "  0. -1.  1.  0.  1.  0. -1.  0.  1.  1. -1. -1. -1.  0. -1.  0.  0.  0.\n",
      " -1.  0.  1.  0.  0. -1.  1.  0. -1. -1.  1.  0.  0.  0.  1.  1.  1.  1.\n",
      "  0. -1.  1.  1.  1.  0. -1.  0.  1. -1. -1. -1. -1.  0.  1.  0.  0. -1.\n",
      " -1. -1. -1.  0.  0.  0.  0.  0. -1. -1.  0.  0. -1. -1. -1.  1.  1.  1.\n",
      " -1.  1. -1.  0.  1. -1.  1. -1. -1.  0.  0. -1.  1.  0. -1.  0.  1.  1.\n",
      " -1.  0.  0. -1.  0. -1.  1. -1.  1. -1. -1.  0.  0.  1.  1. -1.  0.  0.\n",
      "  1.  0. -1.  0.  0.  1.  0.  0.  0.  0.  1. -1.  0. -1.  1. -1. -1.  0.\n",
      " -1. -1.  0.  0.  1.  0. -1. -1.  0.  1.  1. -1. -1.  1.  0. -1.  1.  1.\n",
      "  0. -1.  1. -1.  0.  1.  0. -1.  1.  0.  1. -1. -1. -1.  0. -1.  1. -1.\n",
      "  0.  1.  1.  0. -1.  0.  0. -1. -1.  1.  0. -1. -1.  1. -1.  1.  1.  0.\n",
      "  0.  0.  1.  1. -1. -1. -1.  1.  0.  1.  0.  1. -1.  0.  0.  0. -1. -1.\n",
      "  1.  1.  1.  1.  0.  0. -1.  0.  0.  1.  0.  1.  0. -1. -1.  0.  0.  1.\n",
      "  1.  0. -1.  0. -1.  0.  0.  0.  0.  1.  1.  0.  0.  1.  1.  0. -1.  0.\n",
      "  1.  1.  1.  1.  0.  1.  1.  1.  0.  1. -1.  1.  0. -1.  0. -1.  1.  0.\n",
      "  0. -1.  1. -1.  0.  1.  1.  1.  0.  1.  1.  0. -1.  1.  0. -1. -1.  1.\n",
      "  1.  1.  1.  0.  0.  0. -1.  0. -1.  0.  0.  0.  0. -1. -1.  0. -1.  0.\n",
      "  0. -1. -1.  1.  1.  1. -1.  0. -1.  0. -1.  1.  1.  0.  0.  1.  1. -1.\n",
      "  1. -1.  0.  1.  0.  1.  0. -1. -1.  0.  1.  0. -1.  1.  0.  0. -1.  0.\n",
      "  1.  1.  1.  0. -1.  1.  0.  0.  1.  0.  0. -1.  0.  0.  1.  0.  0. -1.\n",
      "  0.  0.  0.  0.  1. -1.  0.  0. -1. -1.  0. -1. -1.  1.]\n"
     ]
    }
   ],
   "source": [
    "cheeses_npz = np.load(\"cheeses_500_games_5x7_4.npz\")\n",
    "X = cheeses_npz[\"data\"]\n",
    "\n",
    "winners_npz = np.load(\"winners_500_games_5x7_4.npz\")\n",
    "Y = winners_npz[\"data\"]\n",
    "print(f\"Shape of X matrix: {X.shape},\\nY matrix: {Y}\")"
   ]
  },
  {
   "cell_type": "markdown",
   "metadata": {},
   "source": [
    "Now with the dataset loaded we can explore it using matplotlib. Matplotlib is a very powerful python graphics display library.\n",
    "\n",
    "We are going to be showing the games initial state and the winner of each match. The games are represented by two variables X and Y.\n",
    "\n",
    "X is a matrix with 500 examples of length 35. Each example can be resized to the real maze shape of 5 by 7. Each data point of the example vector has two possible values. 1 for presence of cheese and 0 for absence of cheese. \n",
    "\n",
    "\n",
    "Y is a scalar integer that ranges from -1 to 1. 1 represents a win by the python, 0 a draw and -1 a win for the rat.\n",
    "\n",
    "The magic command \"%matplotlib inline\" tells jupyter notebook to display the plot results in the document, instead of opening a separate window."
   ]
  },
  {
   "cell_type": "markdown",
   "metadata": {},
   "source": [
    "Now it is your turn. Reshape the X matrix into a tensor of (examples,mazeWidth, mazeHeight) and put it into a variable x_labyrinth"
   ]
  },
  {
   "cell_type": "code",
   "execution_count": 98,
   "metadata": {
    "ExecuteTime": {
     "end_time": "2023-10-04T13:12:12.024935Z",
     "start_time": "2023-10-04T13:12:12.020243Z"
    }
   },
   "outputs": [],
   "source": [
    "### CELL TO BE COMPLETED \n",
    "x_labyrinth = X.reshape(500,5,7)"
   ]
  },
  {
   "cell_type": "code",
   "execution_count": 99,
   "metadata": {
    "ExecuteTime": {
     "end_time": "2023-10-04T13:10:46.074229Z",
     "start_time": "2023-10-04T13:10:45.836204Z"
    }
   },
   "outputs": [],
   "source": [
    "import matplotlib.pyplot as plt\n",
    "%matplotlib inline"
   ]
  },
  {
   "cell_type": "code",
   "execution_count": 114,
   "metadata": {
    "ExecuteTime": {
     "end_time": "2023-10-04T13:12:14.523534Z",
     "start_time": "2023-10-04T13:12:13.320065Z"
    }
   },
   "outputs": [
    {
     "data": {
      "text/plain": [
       "<matplotlib.colorbar.Colorbar at 0x15ee9e66750>"
      ]
     },
     "execution_count": 114,
     "metadata": {},
     "output_type": "execute_result"
    },
    {
     "data": {
      "image/png": "[encoded data removed]",
      "text/plain": [
       "<Figure size 2000x1000 with 4 Axes>"
      ]
     },
     "metadata": {},
     "output_type": "display_data"
    }
   ],
   "source": [
    "afew = 3 # Number of games to sample\n",
    "fig, axis = plt.subplots(1,afew,figsize=(20,10)) # Generate a new figure with one row of `afew` plots. We also set the size 20,10\n",
    "for i in range(afew):\n",
    "    ind = np.random.randint(x_labyrinth.shape[0]) # sample a game\n",
    "    ax = axis[i] # get the corresponding axis to use\n",
    "    img = ax.matshow(x_labyrinth[ind].T) # Show the matrix as an image (With .T, we transpose the width dimension and the height dimension to see the game as plotted by the PyRat software.)\n",
    "    ax.set_title('Winner : {}'.format(Y[ind])) # Set the axis title with the game winner\n",
    "\n",
    "#Invert all of the y axis so that we see the game in the same direction than in the Pyrat software \n",
    "[ax.invert_yaxis() for ax in axis]\n",
    "\n",
    "fig.colorbar(img,ax=axis) # add a colorbar for each image"
   ]
  },
  {
   "cell_type": "markdown",
   "metadata": {},
   "source": [
    "In the plots above, the cheeses (1) are pictured in yellow, while the empty squares are represented in blue."
   ]
  },
  {
   "cell_type": "markdown",
   "metadata": {},
   "source": [
    "# Exercise\n",
    "\n",
    "Now with all the knowledge you acquired today you can start doing some analysis. \n",
    "\n",
    "Compute the average initial configuration of the game for each situation (rat win, draw, python win) and plotting them side by side. "
   ]
  },
  {
   "cell_type": "code",
   "execution_count": 124,
   "metadata": {
    "ExecuteTime": {
     "end_time": "2023-10-04T13:10:47.004165Z",
     "start_time": "2023-10-04T13:10:47.004165Z"
    }
   },
   "outputs": [
    {
     "data": {
      "text/plain": [
       "<matplotlib.colorbar.Colorbar at 0x15eecf80250>"
      ]
     },
     "execution_count": 124,
     "metadata": {},
     "output_type": "execute_result"
    },
    {
     "data": {
      "image/png": "[encoded data removed]",
      "text/plain": [
       "<Figure size 2000x1000 with 4 Axes>"
      ]
     },
     "metadata": {},
     "output_type": "display_data"
    }
   ],
   "source": [
    "### CELL TO BE COMPLETED \n",
    "\n",
    "# Separate the data into three categories based on the winner\n",
    "rat_win = x_labyrinth[Y == -1]\n",
    "draw = x_labyrinth[Y == 0]\n",
    "python_win = x_labyrinth[Y == 1]\n",
    "\n",
    "# Calculate the average initial configuration for each category\n",
    "avg_rat_win = np.mean(rat_win, axis=0)\n",
    "avg_draw = np.mean(draw, axis=0)\n",
    "avg_python_win = np.mean(python_win, axis=0)\n",
    "\n",
    "# Plot the average initial configuration for each category\n",
    "fig, axis = plt.subplots(1, 3, figsize=(20, 10))\n",
    "\n",
    "ax = axis[0]\n",
    "img = ax.matshow(avg_rat_win.T)\n",
    "ax.set_title('Average Rat Win')\n",
    "\n",
    "ax = axis[1]\n",
    "img = ax.matshow(avg_draw.T)\n",
    "ax.set_title('Average Draw')\n",
    "\n",
    "ax = axis[2]\n",
    "img = ax.matshow(avg_python_win.T)\n",
    "ax.set_title('Average Python Win')\n",
    "\n",
    "[ax.invert_yaxis() for ax in axis]\n",
    "\n",
    "fig.colorbar(img, ax=axis)\n"
   ]
  },
  {
   "cell_type": "code",
   "execution_count": 123,
   "metadata": {
    "ExecuteTime": {
     "end_time": "2023-10-04T13:10:47.006164Z",
     "start_time": "2023-10-04T13:10:47.006164Z"
    },
    "scrolled": true
   },
   "outputs": [],
   "source": [
    "### CELL TO BE COMPLETED "
   ]
  }
 ],
 "metadata": {
  "kernelspec": {
   "display_name": "Python 3 (ipykernel)",
   "language": "python",
   "name": "python3"
  },
  "language_info": {
   "codemirror_mode": {
    "name": "ipython",
    "version": 3
   },
   "file_extension": ".py",
   "mimetype": "text/x-python",
   "name": "python",
   "nbconvert_exporter": "python",
   "pygments_lexer": "ipython3",
   "version": "3.9.4"
  },
  "toc": {
   "base_numbering": 1,
   "nav_menu": {},
   "number_sections": true,
   "sideBar": true,
   "skip_h1_title": false,
   "title_cell": "Table of Contents",
   "title_sidebar": "Contents",
   "toc_cell": false,
   "toc_position": {},
   "toc_section_display": true,
   "toc_window_display": false
  },
  "varInspector": {
   "cols": {
    "lenName": 16,
    "lenType": 16,
    "lenVar": 40
   },
   "kernels_config": {
    "python": {
     "delete_cmd_postfix": "",
     "delete_cmd_prefix": "del ",
     "library": "var_list.py",
     "varRefreshCmd": "print(var_dic_list())"
    },
    "r": {
     "delete_cmd_postfix": ") ",
     "delete_cmd_prefix": "rm(",
     "library": "var_list.r",
     "varRefreshCmd": "cat(var_dic_list()) "
    }
   },
   "types_to_exclude": [
    "module",
    "function",
    "builtin_function_or_method",
    "instance",
    "_Feature"
   ],
   "window_display": false
  }
 },
 "nbformat": 4,
 "nbformat_minor": 4
}
