{
 "cells": [
  {
   "cell_type": "markdown",
   "metadata": {},
   "source": [
    "Introduction to Artificial Intelligence - TP2\n",
    "--\n",
    "\n",
    "At the end of this session, you will be able to : \n",
    "- Perform basic unsupervised learning tasks using sklearn and PyTorch\n",
    "- Apply unsupervised learning on PyRat datasets "
   ]
  },
  {
   "cell_type": "code",
   "execution_count": 32,
   "metadata": {
    "ExecuteTime": {
     "end_time": "2023-11-07T16:34:06.893062Z",
     "start_time": "2023-11-07T16:34:05.563491Z"
    }
   },
   "outputs": [],
   "source": [
    "from sklearn.datasets import load_digits\n",
    "from sklearn.cluster import KMeans\n",
    "from sklearn.decomposition import PCA, MiniBatchDictionaryLearning, DictionaryLearning, NMF\n",
    "\n",
    "import numpy as np\n",
    "from matplotlib import pyplot as plt\n",
    "%matplotlib inline\n",
    "np.random.seed(0)\n"
   ]
  },
  {
   "cell_type": "markdown",
   "metadata": {},
   "source": [
    "# Digits dataset\n",
    "\n",
    "For this TP we are going to be using the DIGITS dataset. The first thing we are going to do is load the dataset. \n",
    "\n",
    "As this is <b>unsupervised</b> we will mostly ignore y (it will only be used for visualization)."
   ]
  },
  {
   "cell_type": "markdown",
   "metadata": {},
   "source": [
    "Load the model"
   ]
  },
  {
   "cell_type": "code",
   "execution_count": 33,
   "metadata": {
    "ExecuteTime": {
     "end_time": "2023-11-07T16:34:06.921646Z",
     "start_time": "2023-11-07T16:34:06.895058Z"
    }
   },
   "outputs": [],
   "source": [
    "x_digits, y_digits = load_digits(n_class=10, return_X_y=True)"
   ]
  },
  {
   "cell_type": "markdown",
   "metadata": {},
   "source": [
    "Visualize some examples"
   ]
  },
  {
   "cell_type": "code",
   "execution_count": 34,
   "metadata": {
    "ExecuteTime": {
     "end_time": "2023-11-07T16:34:07.832149Z",
     "start_time": "2023-11-07T16:34:06.923345Z"
    }
   },
   "outputs": [
    {
     "data": {
      "image/png": "[encoded data removed]",
      "text/plain": [
       "<Figure size 1000x500 with 30 Axes>"
      ]
     },
     "metadata": {},
     "output_type": "display_data"
    }
   ],
   "source": [
    "fig = plt.figure(figsize=(10,5))\n",
    "\n",
    "for i in range(10):\n",
    "    plt.subplot(3, 10, 3*i+1)\n",
    "    \n",
    "    # pick a random digit in the current category     \n",
    "    curX = x_digits[y_digits==i]    \n",
    "    r = np.random.randint(curX.shape[0])\n",
    "    curim = curX[r, :].reshape((8,8))\n",
    "    \n",
    "    plt.imshow(curim, cmap=plt.cm.gray)\n",
    "    plt.xticks([])\n",
    "    plt.yticks([])\n",
    "    \n",
    "    \n",
    "    plt.subplot(3, 10, 3*i+2)\n",
    "    # pick a random digit in the current category     \n",
    "    curX = x_digits[y_digits==i]    \n",
    "    r = np.random.randint(curX.shape[0])\n",
    "    curim = curX[r, :].reshape((8,8))\n",
    "    \n",
    "    plt.imshow(curim, cmap=plt.cm.gray)\n",
    "    plt.xticks([])\n",
    "    plt.yticks([])\n",
    "    \n",
    "    plt.subplot(3,10,3*i+3)\n",
    "    # pick a random digit in the current category     \n",
    "    curX = x_digits[y_digits==i]    \n",
    "    r = np.random.randint(curX.shape[0])\n",
    "    curim = curX[r, :].reshape((8,8))\n",
    "    \n",
    "    plt.imshow(curim,cmap=plt.cm.gray)\n",
    "    plt.xticks([])\n",
    "    plt.yticks([])    "
   ]
  },
  {
   "cell_type": "markdown",
   "metadata": {},
   "source": [
    "# Unsupervised Feature Selection\n",
    "\n",
    "In this part, we will see how to use the [VarianceThreshold](https://scikit-learn.org/stable/modules/feature_selection.html#removing-features-with-low-variance) to remove features with low variance. \n",
    "\n",
    "The principle is to compute variance for each feature, and remove the features that have a variance smaller than a threshold. By default, the method removes only features with a variance of zero (their values are always identical).\n",
    "\n",
    "\n",
    "A word of caution though : the variances are not calculated in the same way whether the set threshold is 0 (the default) or a higher value, as just looking for variances of 0 is done with a method with better numerical precision (see the code [here](https://github.com/scikit-learn/scikit-learn/blob/8c9c1f27b/sklearn/feature_selection/_variance_threshold.py#L115) for a more in depth explanation). \n",
    "\n",
    "\n",
    "In the following, we will use a very small threshold because we will vary the threshold. "
   ]
  },
  {
   "cell_type": "code",
   "execution_count": 35,
   "metadata": {
    "ExecuteTime": {
     "end_time": "2023-11-07T16:34:07.854900Z",
     "start_time": "2023-11-07T16:34:07.833179Z"
    }
   },
   "outputs": [
    {
     "name": "stdout",
     "output_type": "stream",
     "text": [
      "original features shape:\n",
      "(1797, 64)\n",
      "selected features shape\n",
      "(1797, 53)\n",
      "11 features were removed\n"
     ]
    }
   ],
   "source": [
    "from sklearn.feature_selection import VarianceThreshold\n",
    "\n",
    "print('original features shape:')\n",
    "print(x_digits.shape)\n",
    "\n",
    "thr = 0.1\n",
    "\n",
    "selector = VarianceThreshold(threshold=thr)\n",
    "x_digits_new=selector.fit_transform(x_digits)\n",
    "\n",
    "print('selected features shape')\n",
    "print(x_digits_new.shape)\n",
    "\n",
    "print(f\"{x_digits.shape[1]-x_digits_new.shape[1]} features were removed\")\n",
    "variances = selector.variances_"
   ]
  },
  {
   "cell_type": "markdown",
   "metadata": {},
   "source": [
    "Let's visualize which features have been removed ! Generate a boolean mask named `mask` that equals True if a feature must be kept, and False othewise. This can be done by thresholding the variances vector."
   ]
  },
  {
   "cell_type": "code",
   "execution_count": 36,
   "metadata": {
    "ExecuteTime": {
     "end_time": "2023-11-07T16:34:07.859376Z",
     "start_time": "2023-11-07T16:34:07.856403Z"
    }
   },
   "outputs": [
    {
     "name": "stdout",
     "output_type": "stream",
     "text": [
      "Mask for feature selection:\n",
      "[False  True  True  True  True  True  True  True False  True  True  True\n",
      "  True  True  True  True False  True  True  True  True  True  True  True\n",
      " False  True  True  True  True  True  True False False  True  True  True\n",
      "  True  True  True False False  True  True  True  True  True  True False\n",
      " False  True  True  True  True  True  True  True False  True  True  True\n",
      "  True  True  True  True]\n"
     ]
    }
   ],
   "source": [
    "### TO BE COMPLETED \n",
    "# Generate boolean mask\n",
    "mask = variances > thr\n",
    "\n",
    "# Print mask\n",
    "print(\"Mask for feature selection:\")\n",
    "print(mask)\n"
   ]
  },
  {
   "cell_type": "markdown",
   "metadata": {},
   "source": [
    "The following figure is organized as follows : \n",
    "- the first row shows original examples of the digits dataset\n",
    "- the second row shows the mask that select features (selected features are in white)\n",
    "- the third row shows the result of masking the original sample from first row with the mask"
   ]
  },
  {
   "cell_type": "code",
   "execution_count": 37,
   "metadata": {
    "ExecuteTime": {
     "end_time": "2023-11-07T16:34:08.675185Z",
     "start_time": "2023-11-07T16:34:07.880528Z"
    }
   },
   "outputs": [
    {
     "data": {
      "image/png": "[encoded data removed]",
      "text/plain": [
       "<Figure size 1000x500 with 30 Axes>"
      ]
     },
     "metadata": {},
     "output_type": "display_data"
    }
   ],
   "source": [
    "# plots original digits, mask and masked digits \n",
    "fig = plt.figure(figsize=(10,5))\n",
    "\n",
    "for i in range(10):\n",
    "    \n",
    "    plt.subplot(3, 10, i+1)\n",
    "    # pick a random digit in the current category     \n",
    "    curX = x_digits[y_digits==i]    \n",
    "    r = np.random.randint(curX.shape[0])\n",
    "    curim = curX[r, :].reshape((8,8))\n",
    "    \n",
    "    plt.imshow(curim, cmap=plt.cm.gray)\n",
    "    plt.xticks([])\n",
    "    plt.yticks([])\n",
    "    \n",
    "    #plot mask\n",
    "    plt.subplot(3, 10, i+11)\n",
    "    plt.imshow(mask.reshape((8,8)), cmap=plt.cm.gray)\n",
    "    plt.xticks([])\n",
    "    plt.yticks([])\n",
    "    \n",
    "    plt.subplot(3,10,i+21)\n",
    "    # plot masked image \n",
    "    curim_masked =  curim*mask.reshape((8,8))\n",
    "    \n",
    "    plt.imshow(curim_masked,cmap=plt.cm.gray)\n",
    "    plt.xticks([])\n",
    "    plt.yticks([])    "
   ]
  },
  {
   "cell_type": "markdown",
   "metadata": {},
   "source": [
    "By changing the threshold, you can see more or less features being selected (equivalently, features being removed). \n",
    "\n",
    "In order to know how to select the threshold, you should examine the distribution of feature variances. First, let's visualize it using a histogram. "
   ]
  },
  {
   "cell_type": "code",
   "execution_count": 38,
   "metadata": {
    "ExecuteTime": {
     "end_time": "2023-11-07T16:34:08.680544Z",
     "start_time": "2023-11-07T16:34:08.677183Z"
    }
   },
   "outputs": [
    {
     "data": {
      "image/png": "[encoded data removed]",
      "text/plain": [
       "<Figure size 800x600 with 1 Axes>"
      ]
     },
     "metadata": {},
     "output_type": "display_data"
    }
   ],
   "source": [
    "### TO BE COMPLETED : histogram\n",
    "# Visualize the distribution of feature variances using a histogram\n",
    "plt.figure(figsize=(8, 6))\n",
    "plt.hist(variances, bins=30, edgecolor='black')\n",
    "plt.title('Distribution of Feature Variances')\n",
    "plt.xlabel('Variance')\n",
    "plt.ylabel('Frequency')\n",
    "plt.show()"
   ]
  },
  {
   "cell_type": "markdown",
   "metadata": {},
   "source": [
    "You may take a decision to choose the threshold directly using this plot, but it will not tell you directly how many features are removed. "
   ]
  },
  {
   "cell_type": "markdown",
   "metadata": {},
   "source": [
    "We can use the numpy [percentile](https://numpy.org/doc/stable/reference/generated/numpy.percentile.html) (use the equivalent nanpercentile if you may have NaN in your features) in order to find the threshold that removes a certain percentage of features"
   ]
  },
  {
   "cell_type": "code",
   "execution_count": 39,
   "metadata": {
    "ExecuteTime": {
     "end_time": "2023-11-07T16:34:08.855792Z",
     "start_time": "2023-11-07T16:34:08.852100Z"
    }
   },
   "outputs": [
    {
     "name": "stdout",
     "output_type": "stream",
     "text": [
      "Threshold to remove 75% of features: 33.85044046390296\n"
     ]
    }
   ],
   "source": [
    "### TO BE COMPLETED :\n",
    "## use the numpy percentile function to find the threshold to remove a given percentages of features to keep\n",
    "\n",
    "\n",
    "perc_toremove = 75\n",
    "\n",
    "# Find the threshold to remove the given percentage of features\n",
    "thresh_perc = np.percentile(variances, perc_toremove)\n",
    "print(\"Threshold to remove {}% of features: {}\".format(perc_toremove, thresh_perc))"
   ]
  },
  {
   "cell_type": "markdown",
   "metadata": {},
   "source": [
    "Up to how many % features removed can you still recognize the digits ?  (Qualitative, there is no \"good answer\") "
   ]
  },
  {
   "cell_type": "code",
   "execution_count": 40,
   "metadata": {
    "ExecuteTime": {
     "end_time": "2023-11-07T16:34:18.742574Z",
     "start_time": "2023-11-07T16:34:08.863963Z"
    },
    "scrolled": false
   },
   "outputs": [
    {
     "data": {
      "image/png": "[encoded data removed]",
      "text/plain": [
       "<Figure size 1500x500 with 30 Axes>"
      ]
     },
     "metadata": {},
     "output_type": "display_data"
    }
   ],
   "source": [
    "# Define a range of thresholds to test\n",
    "thresholds_to_test = np.linspace(0, max(variances), num=10)  # Adjust num for granularity\n",
    "\n",
    "# Initialize a figure to display digits with masks\n",
    "fig = plt.figure(figsize=(15, 5))\n",
    "\n",
    "# Loop through each threshold\n",
    "for idx, thresh in enumerate(thresholds_to_test, start=1):\n",
    "    # Apply feature selection\n",
    "    mask = variances > thresh\n",
    "    x_digits_masked = x_digits[:, mask]\n",
    "    \n",
    "    # Calculate percentage of data removed\n",
    "    percent_removed = (1 - np.sum(mask) / len(mask)) * 100\n",
    "    \n",
    "    # Pick a random digit\n",
    "    i = np.random.randint(0, len(x_digits))\n",
    "    curim = x_digits[i, :].reshape((8, 8))\n",
    "    \n",
    "    # Plot original digit\n",
    "    plt.subplot(3, len(thresholds_to_test), idx)\n",
    "    plt.imshow(curim, cmap=plt.cm.gray)\n",
    "    plt.title(\"Original\")\n",
    "    plt.axis('off')\n",
    "    \n",
    "    # Plot mask\n",
    "    plt.subplot(3, len(thresholds_to_test), idx + len(thresholds_to_test))\n",
    "    plt.imshow(mask.reshape((8, 8)), cmap=plt.cm.gray)\n",
    "    plt.title(\"Mask\")\n",
    "    plt.axis('off')\n",
    "    \n",
    "    # Plot masked digit\n",
    "    plt.subplot(3, len(thresholds_to_test), idx + 2 * len(thresholds_to_test))\n",
    "    curim_masked = curim * mask.reshape((8, 8))\n",
    "    plt.imshow(curim_masked, cmap=plt.cm.gray)\n",
    "    plt.title(\"Masked\")\n",
    "    plt.axis('off')\n",
    "    \n",
    "    # Display the percentage of data removed\n",
    "    plt.text(0.5, 0.5, f\"{percent_removed:.1f}%\", horizontalalignment='center', verticalalignment='center',\n",
    "             transform=plt.gca().transAxes, fontsize=10)\n",
    "\n",
    "plt.tight_layout()\n",
    "plt.show()\n"
   ]
  },
  {
   "cell_type": "markdown",
   "metadata": {},
   "source": [
    "This part was just to demonstrate a very simple way to remove features in an unsupervised way (you don't need labels). \n",
    "\n",
    "You can also check out [other feature selection methods](https://scikit-learn.org/stable/modules/feature_selection.html) for which you will need the labels. Feel free to experiment. "
   ]
  },
  {
   "cell_type": "markdown",
   "metadata": {},
   "source": [
    "K-means Clustering \n",
    "--"
   ]
  },
  {
   "cell_type": "markdown",
   "metadata": {},
   "source": [
    "In this part, we demonstrate the use of k-means clustering. \n",
    "\n",
    "First, please have a look at the course with notes and read it once again. \n",
    "\n",
    "Done ? We will use the [KMeans estimator from sklearn](https://scikit-learn.org/stable/modules/clustering.html#k-means). Importantly, here are the key concepts :\n",
    "- We define a kmeans estimator like this : `kmeans = KMeans(n_clusters)`. The number of clusters has to be decided in advance, using the n_clusters parameter\n",
    "- The Kmeans clustering is estimated by using the method `fit` on input samples"
   ]
  },
  {
   "cell_type": "code",
   "execution_count": 41,
   "metadata": {
    "ExecuteTime": {
     "end_time": "2023-11-07T16:34:18.748195Z",
     "start_time": "2023-11-07T16:34:18.744563Z"
    }
   },
   "outputs": [],
   "source": [
    "kmeans=KMeans(n_clusters=10, init='k-means++',random_state=0)"
   ]
  },
  {
   "cell_type": "markdown",
   "metadata": {},
   "source": [
    "Estimate this clustering on the digits dataset"
   ]
  },
  {
   "cell_type": "code",
   "execution_count": 42,
   "metadata": {
    "ExecuteTime": {
     "end_time": "2023-11-07T16:34:18.755164Z",
     "start_time": "2023-11-07T16:34:18.750191Z"
    }
   },
   "outputs": [
    {
     "name": "stderr",
     "output_type": "stream",
     "text": [
      "c:\\Users\\grego\\anaconda3\\Lib\\site-packages\\sklearn\\cluster\\_kmeans.py:1412: FutureWarning: The default value of `n_init` will change from 10 to 'auto' in 1.4. Set the value of `n_init` explicitly to suppress the warning\n",
      "  super()._check_params_vs_input(X, default_n_init=10)\n"
     ]
    },
    {
     "data": {
      "text/html": [
       "<style>#sk-container-id-2 {color: black;}#sk-container-id-2 pre{padding: 0;}#sk-container-id-2 div.sk-toggleable {background-color: white;}#sk-container-id-2 label.sk-toggleable__label {cursor: pointer;display: block;width: 100%;margin-bottom: 0;padding: 0.3em;box-sizing: border-box;text-align: center;}#sk-container-id-2 label.sk-toggleable__label-arrow:before {content: \"▸\";float: left;margin-right: 0.25em;color: #696969;}#sk-container-id-2 label.sk-toggleable__label-arrow:hover:before {color: black;}#sk-container-id-2 div.sk-estimator:hover label.sk-toggleable__label-arrow:before {color: black;}#sk-container-id-2 div.sk-toggleable__content {max-height: 0;max-width: 0;overflow: hidden;text-align: left;background-color: #f0f8ff;}#sk-container-id-2 div.sk-toggleable__content pre {margin: 0.2em;color: black;border-radius: 0.25em;background-color: #f0f8ff;}#sk-container-id-2 input.sk-toggleable__control:checked~div.sk-toggleable__content {max-height: 200px;max-width: 100%;overflow: auto;}#sk-container-id-2 input.sk-toggleable__control:checked~label.sk-toggleable__label-arrow:before {content: \"▾\";}#sk-container-id-2 div.sk-estimator input.sk-toggleable__control:checked~label.sk-toggleable__label {background-color: #d4ebff;}#sk-container-id-2 div.sk-label input.sk-toggleable__control:checked~label.sk-toggleable__label {background-color: #d4ebff;}#sk-container-id-2 input.sk-hidden--visually {border: 0;clip: rect(1px 1px 1px 1px);clip: rect(1px, 1px, 1px, 1px);height: 1px;margin: -1px;overflow: hidden;padding: 0;position: absolute;width: 1px;}#sk-container-id-2 div.sk-estimator {font-family: monospace;background-color: #f0f8ff;border: 1px dotted black;border-radius: 0.25em;box-sizing: border-box;margin-bottom: 0.5em;}#sk-container-id-2 div.sk-estimator:hover {background-color: #d4ebff;}#sk-container-id-2 div.sk-parallel-item::after {content: \"\";width: 100%;border-bottom: 1px solid gray;flex-grow: 1;}#sk-container-id-2 div.sk-label:hover label.sk-toggleable__label {background-color: #d4ebff;}#sk-container-id-2 div.sk-serial::before {content: \"\";position: absolute;border-left: 1px solid gray;box-sizing: border-box;top: 0;bottom: 0;left: 50%;z-index: 0;}#sk-container-id-2 div.sk-serial {display: flex;flex-direction: column;align-items: center;background-color: white;padding-right: 0.2em;padding-left: 0.2em;position: relative;}#sk-container-id-2 div.sk-item {position: relative;z-index: 1;}#sk-container-id-2 div.sk-parallel {display: flex;align-items: stretch;justify-content: center;background-color: white;position: relative;}#sk-container-id-2 div.sk-item::before, #sk-container-id-2 div.sk-parallel-item::before {content: \"\";position: absolute;border-left: 1px solid gray;box-sizing: border-box;top: 0;bottom: 0;left: 50%;z-index: -1;}#sk-container-id-2 div.sk-parallel-item {display: flex;flex-direction: column;z-index: 1;position: relative;background-color: white;}#sk-container-id-2 div.sk-parallel-item:first-child::after {align-self: flex-end;width: 50%;}#sk-container-id-2 div.sk-parallel-item:last-child::after {align-self: flex-start;width: 50%;}#sk-container-id-2 div.sk-parallel-item:only-child::after {width: 0;}#sk-container-id-2 div.sk-dashed-wrapped {border: 1px dashed gray;margin: 0 0.4em 0.5em 0.4em;box-sizing: border-box;padding-bottom: 0.4em;background-color: white;}#sk-container-id-2 div.sk-label label {font-family: monospace;font-weight: bold;display: inline-block;line-height: 1.2em;}#sk-container-id-2 div.sk-label-container {text-align: center;}#sk-container-id-2 div.sk-container {/* jupyter's `normalize.less` sets `[hidden] { display: none; }` but bootstrap.min.css set `[hidden] { display: none !important; }` so we also need the `!important` here to be able to override the default hidden behavior on the sphinx rendered scikit-learn.org. See: https://github.com/scikit-learn/scikit-learn/issues/21755 */display: inline-block !important;position: relative;}#sk-container-id-2 div.sk-text-repr-fallback {display: none;}</style><div id=\"sk-container-id-2\" class=\"sk-top-container\"><div class=\"sk-text-repr-fallback\"><pre>KMeans(n_clusters=10, random_state=0)</pre><b>In a Jupyter environment, please rerun this cell to show the HTML representation or trust the notebook. <br />On GitHub, the HTML representation is unable to render, please try loading this page with nbviewer.org.</b></div><div class=\"sk-container\" hidden><div class=\"sk-item\"><div class=\"sk-estimator sk-toggleable\"><input class=\"sk-toggleable__control sk-hidden--visually\" id=\"sk-estimator-id-2\" type=\"checkbox\" checked><label for=\"sk-estimator-id-2\" class=\"sk-toggleable__label sk-toggleable__label-arrow\">KMeans</label><div class=\"sk-toggleable__content\"><pre>KMeans(n_clusters=10, random_state=0)</pre></div></div></div></div></div>"
      ],
      "text/plain": [
       "KMeans(n_clusters=10, random_state=0)"
      ]
     },
     "execution_count": 42,
     "metadata": {},
     "output_type": "execute_result"
    }
   ],
   "source": [
    "### to be completed \n",
    "# Estimate KMeans clustering on the digits dataset\n",
    "kmeans.fit(x_digits)"
   ]
  },
  {
   "cell_type": "markdown",
   "metadata": {},
   "source": [
    "Now we are going to visualize the centroids of the $10$ clusters. First we have to get the center of each cluster. \n",
    "\n",
    "After having used the method `fit`, the coordinates of the found centroids will be stored in an attribute named `cluster_centers_`, that you can access by doing `kmeans.cluster_centers_`"
   ]
  },
  {
   "cell_type": "code",
   "execution_count": 43,
   "metadata": {
    "ExecuteTime": {
     "end_time": "2023-11-07T16:34:19.197056Z",
     "start_time": "2023-11-07T16:34:19.192541Z"
    }
   },
   "outputs": [],
   "source": [
    "### CELL TO COMPLETE, put the cluster centers in variable centroids\n",
    "# Extract cluster centers\n",
    "centroids = kmeans.cluster_centers_\n",
    "\n"
   ]
  },
  {
   "cell_type": "markdown",
   "metadata": {},
   "source": [
    "We will now plot the clusters centroids. Centroids are points in the same space than the original samples, so we can plot them similarly than the samples of the dataset."
   ]
  },
  {
   "cell_type": "code",
   "execution_count": 44,
   "metadata": {
    "ExecuteTime": {
     "end_time": "2023-11-07T16:34:19.718133Z",
     "start_time": "2023-11-07T16:34:19.206782Z"
    }
   },
   "outputs": [
    {
     "data": {
      "image/png": "[encoded data removed]",
      "text/plain": [
       "<Figure size 1000x500 with 10 Axes>"
      ]
     },
     "metadata": {},
     "output_type": "display_data"
    }
   ],
   "source": [
    "fig = plt.figure(figsize=(10,5))\n",
    "\n",
    "for i,curcen in enumerate(centroids):\n",
    "    \n",
    "    plt.subplot(2, 5, i+1)\n",
    "    im_cen = curcen.reshape((8,8))\n",
    "    plt.imshow(im_cen, cmap=plt.cm.gray)\n",
    "    plt.xticks([])\n",
    "    plt.yticks([])"
   ]
  },
  {
   "cell_type": "markdown",
   "metadata": {},
   "source": [
    "We are now going to take a look in our reconstructions using our KMeans model.\n",
    "\n",
    "First we take a sample from each class."
   ]
  },
  {
   "cell_type": "code",
   "execution_count": 45,
   "metadata": {
    "ExecuteTime": {
     "end_time": "2023-11-07T16:34:19.726107Z",
     "start_time": "2023-11-07T16:34:19.719126Z"
    }
   },
   "outputs": [
    {
     "data": {
      "text/plain": [
       "(10, 64)"
      ]
     },
     "execution_count": 45,
     "metadata": {},
     "output_type": "execute_result"
    }
   ],
   "source": [
    "### Pick a few random examples \n",
    "whichex = np.random.randint(low=0,high=100,size=1) \n",
    "X_samp = np.concatenate([x_digits[y_digits==i][whichex] for i in range(10)])\n",
    "X_samp.shape"
   ]
  },
  {
   "cell_type": "markdown",
   "metadata": {},
   "source": [
    "\n",
    "- The `transform` method can be used to estimate distances of samples to the centroids\n",
    "- The `predict` method, can be used to assign labels of the closest centroid to each sample\n",
    "\n",
    "Don't hesitate to lookup the help page of these methods using the '?' magic"
   ]
  },
  {
   "cell_type": "code",
   "execution_count": 46,
   "metadata": {
    "ExecuteTime": {
     "end_time": "2023-11-07T16:34:19.732612Z",
     "start_time": "2023-11-07T16:34:19.728103Z"
    }
   },
   "outputs": [
    {
     "name": "stdout",
     "output_type": "stream",
     "text": [
      "(10, 10) (10,) (10,)\n",
      "[17.29204266 17.46884814 37.67339351 18.50444795 25.23917661 23.36035959\n",
      " 12.72030355 24.66147653 28.19085572 20.59348583]\n"
     ]
    }
   ],
   "source": [
    "### CELL TO COMPLETE, use the transform method from the kmeans object on X_samp.\n",
    "### You will obtain an array containing the distances to the centroids. \n",
    "### Use the argmin method from numpy to generate an array containing the index corresponding to the closest centroid to the samples\n",
    "### Fetch the corresponding centroid in another array closest_centroids.\n",
    "### And finally calculate the distances of each samples to its closest centroid using np.min\n",
    "\n",
    "### TO BE COMPLETED \n",
    "distances = kmeans.transform(X_samp)  # Calculate distances of samples to centroids\n",
    "idx_closest_centroids = np.argmin(distances, axis=1)  # Find index of closest centroid\n",
    "closest_centroids = kmeans.cluster_centers_[idx_closest_centroids]  # Fetch closest centroids\n",
    "smallest_distances = np.min(distances, axis=1)  # Calculate distances to closest centroids\n",
    "\n",
    "print(distances.shape, idx_closest_centroids.shape, smallest_distances.shape)\n",
    "\n",
    "print(smallest_distances)\n"
   ]
  },
  {
   "cell_type": "code",
   "execution_count": 47,
   "metadata": {
    "ExecuteTime": {
     "end_time": "2023-11-07T16:34:19.749636Z",
     "start_time": "2023-11-07T16:34:19.742390Z"
    }
   },
   "outputs": [
    {
     "name": "stdout",
     "output_type": "stream",
     "text": [
      "[0 3 2 4 6 7 5 2 1 8]\n",
      "[0 3 2 4 6 7 5 2 1 8]\n"
     ]
    }
   ],
   "source": [
    "### verify that the indices of your closest centroids are the same than the ones obtained using the predict method\n",
    "\n",
    "print(idx_closest_centroids)\n",
    "print(kmeans.predict(X_samp))"
   ]
  },
  {
   "cell_type": "code",
   "execution_count": 48,
   "metadata": {
    "ExecuteTime": {
     "end_time": "2023-11-07T16:34:21.049186Z",
     "start_time": "2023-11-07T16:34:19.753608Z"
    }
   },
   "outputs": [
    {
     "data": {
      "image/png": "[encoded data removed]",
      "text/plain": [
       "<Figure size 2000x1000 with 20 Axes>"
      ]
     },
     "metadata": {},
     "output_type": "display_data"
    }
   ],
   "source": [
    "# now we plot the samples ans their closest centroids, together with the distance ( = reconstruction error)\n",
    "\n",
    "plt.figure(figsize=(20,10))\n",
    "for i,(im,im_cen,distance) in enumerate(zip(X_samp, closest_centroids, smallest_distances)):\n",
    "        \n",
    "    plt.subplot(4, 6, 1+2*i)\n",
    "    plt.imshow(im.reshape(8, 8), cmap=plt.cm.gray)\n",
    "    plt.xticks([])\n",
    "    plt.yticks([])\n",
    "    plt.title(\"Original\")\n",
    "    \n",
    "    plt.subplot(4, 6, 2+2*i)\n",
    "    plt.imshow(im_cen.reshape(8, 8), cmap=plt.cm.gray)\n",
    "    plt.xticks([])\n",
    "    plt.yticks([])\n",
    "    plt.title(\"Closest centroid, distance %.2E\"%distance)\n"
   ]
  },
  {
   "cell_type": "markdown",
   "metadata": {},
   "source": [
    "Visualize the elbow method with inertia, by generating KMeans with clusters ranging from 1 to 99, using random state = 0. Inertia is stored in [inertia_](http://scikit-learn.org/stable/modules/generated/sklearn.cluster.KMeans.html)."
   ]
  },
  {
   "cell_type": "code",
   "execution_count": 49,
   "metadata": {
    "ExecuteTime": {
     "end_time": "2023-11-07T16:34:52.562863Z",
     "start_time": "2023-11-07T16:34:21.051178Z"
    }
   },
   "outputs": [
    {
     "name": "stderr",
     "output_type": "stream",
     "text": [
      "  0%|          | 0/99 [00:00<?, ?it/s]c:\\Users\\grego\\anaconda3\\Lib\\site-packages\\sklearn\\cluster\\_kmeans.py:1412: FutureWarning: The default value of `n_init` will change from 10 to 'auto' in 1.4. Set the value of `n_init` explicitly to suppress the warning\n",
      "  super()._check_params_vs_input(X, default_n_init=10)\n",
      "  1%|          | 1/99 [00:00<00:26,  3.70it/s]c:\\Users\\grego\\anaconda3\\Lib\\site-packages\\sklearn\\cluster\\_kmeans.py:1412: FutureWarning: The default value of `n_init` will change from 10 to 'auto' in 1.4. Set the value of `n_init` explicitly to suppress the warning\n",
      "  super()._check_params_vs_input(X, default_n_init=10)\n",
      "  2%|▏         | 2/99 [00:00<00:28,  3.43it/s]c:\\Users\\grego\\anaconda3\\Lib\\site-packages\\sklearn\\cluster\\_kmeans.py:1412: FutureWarning: The default value of `n_init` will change from 10 to 'auto' in 1.4. Set the value of `n_init` explicitly to suppress the warning\n",
      "  super()._check_params_vs_input(X, default_n_init=10)\n",
      "  3%|▎         | 3/99 [00:00<00:27,  3.44it/s]c:\\Users\\grego\\anaconda3\\Lib\\site-packages\\sklearn\\cluster\\_kmeans.py:1412: FutureWarning: The default value of `n_init` will change from 10 to 'auto' in 1.4. Set the value of `n_init` explicitly to suppress the warning\n",
      "  super()._check_params_vs_input(X, default_n_init=10)\n",
      "  4%|▍         | 4/99 [00:01<00:29,  3.22it/s]c:\\Users\\grego\\anaconda3\\Lib\\site-packages\\sklearn\\cluster\\_kmeans.py:1412: FutureWarning: The default value of `n_init` will change from 10 to 'auto' in 1.4. Set the value of `n_init` explicitly to suppress the warning\n",
      "  super()._check_params_vs_input(X, default_n_init=10)\n",
      "  5%|▌         | 5/99 [00:01<00:28,  3.29it/s]c:\\Users\\grego\\anaconda3\\Lib\\site-packages\\sklearn\\cluster\\_kmeans.py:1412: FutureWarning: The default value of `n_init` will change from 10 to 'auto' in 1.4. Set the value of `n_init` explicitly to suppress the warning\n",
      "  super()._check_params_vs_input(X, default_n_init=10)\n",
      "  6%|▌         | 6/99 [00:01<00:28,  3.23it/s]c:\\Users\\grego\\anaconda3\\Lib\\site-packages\\sklearn\\cluster\\_kmeans.py:1412: FutureWarning: The default value of `n_init` will change from 10 to 'auto' in 1.4. Set the value of `n_init` explicitly to suppress the warning\n",
      "  super()._check_params_vs_input(X, default_n_init=10)\n",
      "  7%|▋         | 7/99 [00:02<00:28,  3.18it/s]c:\\Users\\grego\\anaconda3\\Lib\\site-packages\\sklearn\\cluster\\_kmeans.py:1412: FutureWarning: The default value of `n_init` will change from 10 to 'auto' in 1.4. Set the value of `n_init` explicitly to suppress the warning\n",
      "  super()._check_params_vs_input(X, default_n_init=10)\n",
      "  8%|▊         | 8/99 [00:02<00:27,  3.32it/s]c:\\Users\\grego\\anaconda3\\Lib\\site-packages\\sklearn\\cluster\\_kmeans.py:1412: FutureWarning: The default value of `n_init` will change from 10 to 'auto' in 1.4. Set the value of `n_init` explicitly to suppress the warning\n",
      "  super()._check_params_vs_input(X, default_n_init=10)\n",
      "  9%|▉         | 9/99 [00:02<00:25,  3.58it/s]c:\\Users\\grego\\anaconda3\\Lib\\site-packages\\sklearn\\cluster\\_kmeans.py:1412: FutureWarning: The default value of `n_init` will change from 10 to 'auto' in 1.4. Set the value of `n_init` explicitly to suppress the warning\n",
      "  super()._check_params_vs_input(X, default_n_init=10)\n",
      " 10%|█         | 10/99 [00:02<00:23,  3.72it/s]c:\\Users\\grego\\anaconda3\\Lib\\site-packages\\sklearn\\cluster\\_kmeans.py:1412: FutureWarning: The default value of `n_init` will change from 10 to 'auto' in 1.4. Set the value of `n_init` explicitly to suppress the warning\n",
      "  super()._check_params_vs_input(X, default_n_init=10)\n",
      " 11%|█         | 11/99 [00:03<00:23,  3.81it/s]c:\\Users\\grego\\anaconda3\\Lib\\site-packages\\sklearn\\cluster\\_kmeans.py:1412: FutureWarning: The default value of `n_init` will change from 10 to 'auto' in 1.4. Set the value of `n_init` explicitly to suppress the warning\n",
      "  super()._check_params_vs_input(X, default_n_init=10)\n",
      " 12%|█▏        | 12/99 [00:03<00:22,  3.91it/s]c:\\Users\\grego\\anaconda3\\Lib\\site-packages\\sklearn\\cluster\\_kmeans.py:1412: FutureWarning: The default value of `n_init` will change from 10 to 'auto' in 1.4. Set the value of `n_init` explicitly to suppress the warning\n",
      "  super()._check_params_vs_input(X, default_n_init=10)\n",
      " 13%|█▎        | 13/99 [00:03<00:21,  4.03it/s]c:\\Users\\grego\\anaconda3\\Lib\\site-packages\\sklearn\\cluster\\_kmeans.py:1412: FutureWarning: The default value of `n_init` will change from 10 to 'auto' in 1.4. Set the value of `n_init` explicitly to suppress the warning\n",
      "  super()._check_params_vs_input(X, default_n_init=10)\n",
      " 14%|█▍        | 14/99 [00:03<00:20,  4.08it/s]c:\\Users\\grego\\anaconda3\\Lib\\site-packages\\sklearn\\cluster\\_kmeans.py:1412: FutureWarning: The default value of `n_init` will change from 10 to 'auto' in 1.4. Set the value of `n_init` explicitly to suppress the warning\n",
      "  super()._check_params_vs_input(X, default_n_init=10)\n",
      " 15%|█▌        | 15/99 [00:04<00:20,  4.09it/s]c:\\Users\\grego\\anaconda3\\Lib\\site-packages\\sklearn\\cluster\\_kmeans.py:1412: FutureWarning: The default value of `n_init` will change from 10 to 'auto' in 1.4. Set the value of `n_init` explicitly to suppress the warning\n",
      "  super()._check_params_vs_input(X, default_n_init=10)\n",
      " 16%|█▌        | 16/99 [00:04<00:20,  4.07it/s]c:\\Users\\grego\\anaconda3\\Lib\\site-packages\\sklearn\\cluster\\_kmeans.py:1412: FutureWarning: The default value of `n_init` will change from 10 to 'auto' in 1.4. Set the value of `n_init` explicitly to suppress the warning\n",
      "  super()._check_params_vs_input(X, default_n_init=10)\n",
      " 17%|█▋        | 17/99 [00:04<00:20,  4.07it/s]c:\\Users\\grego\\anaconda3\\Lib\\site-packages\\sklearn\\cluster\\_kmeans.py:1412: FutureWarning: The default value of `n_init` will change from 10 to 'auto' in 1.4. Set the value of `n_init` explicitly to suppress the warning\n",
      "  super()._check_params_vs_input(X, default_n_init=10)\n",
      " 18%|█▊        | 18/99 [00:04<00:20,  3.87it/s]c:\\Users\\grego\\anaconda3\\Lib\\site-packages\\sklearn\\cluster\\_kmeans.py:1412: FutureWarning: The default value of `n_init` will change from 10 to 'auto' in 1.4. Set the value of `n_init` explicitly to suppress the warning\n",
      "  super()._check_params_vs_input(X, default_n_init=10)\n",
      " 19%|█▉        | 19/99 [00:05<00:23,  3.42it/s]c:\\Users\\grego\\anaconda3\\Lib\\site-packages\\sklearn\\cluster\\_kmeans.py:1412: FutureWarning: The default value of `n_init` will change from 10 to 'auto' in 1.4. Set the value of `n_init` explicitly to suppress the warning\n",
      "  super()._check_params_vs_input(X, default_n_init=10)\n",
      " 20%|██        | 20/99 [00:05<00:25,  3.11it/s]c:\\Users\\grego\\anaconda3\\Lib\\site-packages\\sklearn\\cluster\\_kmeans.py:1412: FutureWarning: The default value of `n_init` will change from 10 to 'auto' in 1.4. Set the value of `n_init` explicitly to suppress the warning\n",
      "  super()._check_params_vs_input(X, default_n_init=10)\n",
      " 21%|██        | 21/99 [00:05<00:25,  3.03it/s]c:\\Users\\grego\\anaconda3\\Lib\\site-packages\\sklearn\\cluster\\_kmeans.py:1412: FutureWarning: The default value of `n_init` will change from 10 to 'auto' in 1.4. Set the value of `n_init` explicitly to suppress the warning\n",
      "  super()._check_params_vs_input(X, default_n_init=10)\n",
      " 22%|██▏       | 22/99 [00:06<00:26,  2.95it/s]c:\\Users\\grego\\anaconda3\\Lib\\site-packages\\sklearn\\cluster\\_kmeans.py:1412: FutureWarning: The default value of `n_init` will change from 10 to 'auto' in 1.4. Set the value of `n_init` explicitly to suppress the warning\n",
      "  super()._check_params_vs_input(X, default_n_init=10)\n",
      " 23%|██▎       | 23/99 [00:06<00:25,  2.92it/s]c:\\Users\\grego\\anaconda3\\Lib\\site-packages\\sklearn\\cluster\\_kmeans.py:1412: FutureWarning: The default value of `n_init` will change from 10 to 'auto' in 1.4. Set the value of `n_init` explicitly to suppress the warning\n",
      "  super()._check_params_vs_input(X, default_n_init=10)\n",
      " 24%|██▍       | 24/99 [00:07<00:26,  2.83it/s]c:\\Users\\grego\\anaconda3\\Lib\\site-packages\\sklearn\\cluster\\_kmeans.py:1412: FutureWarning: The default value of `n_init` will change from 10 to 'auto' in 1.4. Set the value of `n_init` explicitly to suppress the warning\n",
      "  super()._check_params_vs_input(X, default_n_init=10)\n",
      " 25%|██▌       | 25/99 [00:07<00:26,  2.75it/s]c:\\Users\\grego\\anaconda3\\Lib\\site-packages\\sklearn\\cluster\\_kmeans.py:1412: FutureWarning: The default value of `n_init` will change from 10 to 'auto' in 1.4. Set the value of `n_init` explicitly to suppress the warning\n",
      "  super()._check_params_vs_input(X, default_n_init=10)\n",
      " 26%|██▋       | 26/99 [00:07<00:26,  2.74it/s]c:\\Users\\grego\\anaconda3\\Lib\\site-packages\\sklearn\\cluster\\_kmeans.py:1412: FutureWarning: The default value of `n_init` will change from 10 to 'auto' in 1.4. Set the value of `n_init` explicitly to suppress the warning\n",
      "  super()._check_params_vs_input(X, default_n_init=10)\n",
      " 27%|██▋       | 27/99 [00:08<00:26,  2.73it/s]c:\\Users\\grego\\anaconda3\\Lib\\site-packages\\sklearn\\cluster\\_kmeans.py:1412: FutureWarning: The default value of `n_init` will change from 10 to 'auto' in 1.4. Set the value of `n_init` explicitly to suppress the warning\n",
      "  super()._check_params_vs_input(X, default_n_init=10)\n",
      " 28%|██▊       | 28/99 [00:08<00:26,  2.70it/s]c:\\Users\\grego\\anaconda3\\Lib\\site-packages\\sklearn\\cluster\\_kmeans.py:1412: FutureWarning: The default value of `n_init` will change from 10 to 'auto' in 1.4. Set the value of `n_init` explicitly to suppress the warning\n",
      "  super()._check_params_vs_input(X, default_n_init=10)\n",
      " 29%|██▉       | 29/99 [00:08<00:26,  2.68it/s]c:\\Users\\grego\\anaconda3\\Lib\\site-packages\\sklearn\\cluster\\_kmeans.py:1412: FutureWarning: The default value of `n_init` will change from 10 to 'auto' in 1.4. Set the value of `n_init` explicitly to suppress the warning\n",
      "  super()._check_params_vs_input(X, default_n_init=10)\n",
      " 30%|███       | 30/99 [00:09<00:26,  2.63it/s]c:\\Users\\grego\\anaconda3\\Lib\\site-packages\\sklearn\\cluster\\_kmeans.py:1412: FutureWarning: The default value of `n_init` will change from 10 to 'auto' in 1.4. Set the value of `n_init` explicitly to suppress the warning\n",
      "  super()._check_params_vs_input(X, default_n_init=10)\n",
      " 31%|███▏      | 31/99 [00:09<00:25,  2.63it/s]c:\\Users\\grego\\anaconda3\\Lib\\site-packages\\sklearn\\cluster\\_kmeans.py:1412: FutureWarning: The default value of `n_init` will change from 10 to 'auto' in 1.4. Set the value of `n_init` explicitly to suppress the warning\n",
      "  super()._check_params_vs_input(X, default_n_init=10)\n",
      " 32%|███▏      | 32/99 [00:10<00:25,  2.63it/s]c:\\Users\\grego\\anaconda3\\Lib\\site-packages\\sklearn\\cluster\\_kmeans.py:1412: FutureWarning: The default value of `n_init` will change from 10 to 'auto' in 1.4. Set the value of `n_init` explicitly to suppress the warning\n",
      "  super()._check_params_vs_input(X, default_n_init=10)\n",
      " 33%|███▎      | 33/99 [00:10<00:25,  2.62it/s]c:\\Users\\grego\\anaconda3\\Lib\\site-packages\\sklearn\\cluster\\_kmeans.py:1412: FutureWarning: The default value of `n_init` will change from 10 to 'auto' in 1.4. Set the value of `n_init` explicitly to suppress the warning\n",
      "  super()._check_params_vs_input(X, default_n_init=10)\n",
      " 34%|███▍      | 34/99 [00:10<00:25,  2.57it/s]c:\\Users\\grego\\anaconda3\\Lib\\site-packages\\sklearn\\cluster\\_kmeans.py:1412: FutureWarning: The default value of `n_init` will change from 10 to 'auto' in 1.4. Set the value of `n_init` explicitly to suppress the warning\n",
      "  super()._check_params_vs_input(X, default_n_init=10)\n",
      " 35%|███▌      | 35/99 [00:11<00:25,  2.54it/s]c:\\Users\\grego\\anaconda3\\Lib\\site-packages\\sklearn\\cluster\\_kmeans.py:1412: FutureWarning: The default value of `n_init` will change from 10 to 'auto' in 1.4. Set the value of `n_init` explicitly to suppress the warning\n",
      "  super()._check_params_vs_input(X, default_n_init=10)\n",
      " 36%|███▋      | 36/99 [00:11<00:25,  2.49it/s]c:\\Users\\grego\\anaconda3\\Lib\\site-packages\\sklearn\\cluster\\_kmeans.py:1412: FutureWarning: The default value of `n_init` will change from 10 to 'auto' in 1.4. Set the value of `n_init` explicitly to suppress the warning\n",
      "  super()._check_params_vs_input(X, default_n_init=10)\n",
      " 37%|███▋      | 37/99 [00:12<00:24,  2.55it/s]c:\\Users\\grego\\anaconda3\\Lib\\site-packages\\sklearn\\cluster\\_kmeans.py:1412: FutureWarning: The default value of `n_init` will change from 10 to 'auto' in 1.4. Set the value of `n_init` explicitly to suppress the warning\n",
      "  super()._check_params_vs_input(X, default_n_init=10)\n",
      " 38%|███▊      | 38/99 [00:12<00:22,  2.76it/s]c:\\Users\\grego\\anaconda3\\Lib\\site-packages\\sklearn\\cluster\\_kmeans.py:1412: FutureWarning: The default value of `n_init` will change from 10 to 'auto' in 1.4. Set the value of `n_init` explicitly to suppress the warning\n",
      "  super()._check_params_vs_input(X, default_n_init=10)\n",
      " 39%|███▉      | 39/99 [00:12<00:21,  2.83it/s]c:\\Users\\grego\\anaconda3\\Lib\\site-packages\\sklearn\\cluster\\_kmeans.py:1412: FutureWarning: The default value of `n_init` will change from 10 to 'auto' in 1.4. Set the value of `n_init` explicitly to suppress the warning\n",
      "  super()._check_params_vs_input(X, default_n_init=10)\n",
      " 40%|████      | 40/99 [00:13<00:21,  2.73it/s]c:\\Users\\grego\\anaconda3\\Lib\\site-packages\\sklearn\\cluster\\_kmeans.py:1412: FutureWarning: The default value of `n_init` will change from 10 to 'auto' in 1.4. Set the value of `n_init` explicitly to suppress the warning\n",
      "  super()._check_params_vs_input(X, default_n_init=10)\n",
      " 41%|████▏     | 41/99 [00:13<00:22,  2.61it/s]c:\\Users\\grego\\anaconda3\\Lib\\site-packages\\sklearn\\cluster\\_kmeans.py:1412: FutureWarning: The default value of `n_init` will change from 10 to 'auto' in 1.4. Set the value of `n_init` explicitly to suppress the warning\n",
      "  super()._check_params_vs_input(X, default_n_init=10)\n",
      " 42%|████▏     | 42/99 [00:14<00:23,  2.47it/s]c:\\Users\\grego\\anaconda3\\Lib\\site-packages\\sklearn\\cluster\\_kmeans.py:1412: FutureWarning: The default value of `n_init` will change from 10 to 'auto' in 1.4. Set the value of `n_init` explicitly to suppress the warning\n",
      "  super()._check_params_vs_input(X, default_n_init=10)\n",
      " 43%|████▎     | 43/99 [00:14<00:23,  2.43it/s]c:\\Users\\grego\\anaconda3\\Lib\\site-packages\\sklearn\\cluster\\_kmeans.py:1412: FutureWarning: The default value of `n_init` will change from 10 to 'auto' in 1.4. Set the value of `n_init` explicitly to suppress the warning\n",
      "  super()._check_params_vs_input(X, default_n_init=10)\n",
      " 44%|████▍     | 44/99 [00:14<00:22,  2.40it/s]c:\\Users\\grego\\anaconda3\\Lib\\site-packages\\sklearn\\cluster\\_kmeans.py:1412: FutureWarning: The default value of `n_init` will change from 10 to 'auto' in 1.4. Set the value of `n_init` explicitly to suppress the warning\n",
      "  super()._check_params_vs_input(X, default_n_init=10)\n",
      " 45%|████▌     | 45/99 [00:15<00:23,  2.32it/s]c:\\Users\\grego\\anaconda3\\Lib\\site-packages\\sklearn\\cluster\\_kmeans.py:1412: FutureWarning: The default value of `n_init` will change from 10 to 'auto' in 1.4. Set the value of `n_init` explicitly to suppress the warning\n",
      "  super()._check_params_vs_input(X, default_n_init=10)\n",
      " 46%|████▋     | 46/99 [00:15<00:23,  2.30it/s]c:\\Users\\grego\\anaconda3\\Lib\\site-packages\\sklearn\\cluster\\_kmeans.py:1412: FutureWarning: The default value of `n_init` will change from 10 to 'auto' in 1.4. Set the value of `n_init` explicitly to suppress the warning\n",
      "  super()._check_params_vs_input(X, default_n_init=10)\n",
      " 47%|████▋     | 47/99 [00:16<00:23,  2.26it/s]c:\\Users\\grego\\anaconda3\\Lib\\site-packages\\sklearn\\cluster\\_kmeans.py:1412: FutureWarning: The default value of `n_init` will change from 10 to 'auto' in 1.4. Set the value of `n_init` explicitly to suppress the warning\n",
      "  super()._check_params_vs_input(X, default_n_init=10)\n",
      " 48%|████▊     | 48/99 [00:16<00:22,  2.27it/s]c:\\Users\\grego\\anaconda3\\Lib\\site-packages\\sklearn\\cluster\\_kmeans.py:1412: FutureWarning: The default value of `n_init` will change from 10 to 'auto' in 1.4. Set the value of `n_init` explicitly to suppress the warning\n",
      "  super()._check_params_vs_input(X, default_n_init=10)\n",
      " 49%|████▉     | 49/99 [00:17<00:21,  2.28it/s]c:\\Users\\grego\\anaconda3\\Lib\\site-packages\\sklearn\\cluster\\_kmeans.py:1412: FutureWarning: The default value of `n_init` will change from 10 to 'auto' in 1.4. Set the value of `n_init` explicitly to suppress the warning\n",
      "  super()._check_params_vs_input(X, default_n_init=10)\n",
      " 51%|█████     | 50/99 [00:17<00:21,  2.28it/s]c:\\Users\\grego\\anaconda3\\Lib\\site-packages\\sklearn\\cluster\\_kmeans.py:1412: FutureWarning: The default value of `n_init` will change from 10 to 'auto' in 1.4. Set the value of `n_init` explicitly to suppress the warning\n",
      "  super()._check_params_vs_input(X, default_n_init=10)\n",
      " 52%|█████▏    | 51/99 [00:17<00:21,  2.25it/s]c:\\Users\\grego\\anaconda3\\Lib\\site-packages\\sklearn\\cluster\\_kmeans.py:1412: FutureWarning: The default value of `n_init` will change from 10 to 'auto' in 1.4. Set the value of `n_init` explicitly to suppress the warning\n",
      "  super()._check_params_vs_input(X, default_n_init=10)\n",
      " 53%|█████▎    | 52/99 [00:18<00:21,  2.23it/s]c:\\Users\\grego\\anaconda3\\Lib\\site-packages\\sklearn\\cluster\\_kmeans.py:1412: FutureWarning: The default value of `n_init` will change from 10 to 'auto' in 1.4. Set the value of `n_init` explicitly to suppress the warning\n",
      "  super()._check_params_vs_input(X, default_n_init=10)\n",
      " 54%|█████▎    | 53/99 [00:18<00:20,  2.23it/s]c:\\Users\\grego\\anaconda3\\Lib\\site-packages\\sklearn\\cluster\\_kmeans.py:1412: FutureWarning: The default value of `n_init` will change from 10 to 'auto' in 1.4. Set the value of `n_init` explicitly to suppress the warning\n",
      "  super()._check_params_vs_input(X, default_n_init=10)\n",
      " 55%|█████▍    | 54/99 [00:19<00:20,  2.23it/s]c:\\Users\\grego\\anaconda3\\Lib\\site-packages\\sklearn\\cluster\\_kmeans.py:1412: FutureWarning: The default value of `n_init` will change from 10 to 'auto' in 1.4. Set the value of `n_init` explicitly to suppress the warning\n",
      "  super()._check_params_vs_input(X, default_n_init=10)\n",
      " 56%|█████▌    | 55/99 [00:19<00:19,  2.20it/s]c:\\Users\\grego\\anaconda3\\Lib\\site-packages\\sklearn\\cluster\\_kmeans.py:1412: FutureWarning: The default value of `n_init` will change from 10 to 'auto' in 1.4. Set the value of `n_init` explicitly to suppress the warning\n",
      "  super()._check_params_vs_input(X, default_n_init=10)\n",
      " 57%|█████▋    | 56/99 [00:20<00:19,  2.19it/s]c:\\Users\\grego\\anaconda3\\Lib\\site-packages\\sklearn\\cluster\\_kmeans.py:1412: FutureWarning: The default value of `n_init` will change from 10 to 'auto' in 1.4. Set the value of `n_init` explicitly to suppress the warning\n",
      "  super()._check_params_vs_input(X, default_n_init=10)\n",
      " 58%|█████▊    | 57/99 [00:20<00:19,  2.16it/s]c:\\Users\\grego\\anaconda3\\Lib\\site-packages\\sklearn\\cluster\\_kmeans.py:1412: FutureWarning: The default value of `n_init` will change from 10 to 'auto' in 1.4. Set the value of `n_init` explicitly to suppress the warning\n",
      "  super()._check_params_vs_input(X, default_n_init=10)\n",
      " 59%|█████▊    | 58/99 [00:21<00:19,  2.15it/s]c:\\Users\\grego\\anaconda3\\Lib\\site-packages\\sklearn\\cluster\\_kmeans.py:1412: FutureWarning: The default value of `n_init` will change from 10 to 'auto' in 1.4. Set the value of `n_init` explicitly to suppress the warning\n",
      "  super()._check_params_vs_input(X, default_n_init=10)\n",
      " 60%|█████▉    | 59/99 [00:21<00:19,  2.07it/s]c:\\Users\\grego\\anaconda3\\Lib\\site-packages\\sklearn\\cluster\\_kmeans.py:1412: FutureWarning: The default value of `n_init` will change from 10 to 'auto' in 1.4. Set the value of `n_init` explicitly to suppress the warning\n",
      "  super()._check_params_vs_input(X, default_n_init=10)\n",
      " 61%|██████    | 60/99 [00:22<00:18,  2.07it/s]c:\\Users\\grego\\anaconda3\\Lib\\site-packages\\sklearn\\cluster\\_kmeans.py:1412: FutureWarning: The default value of `n_init` will change from 10 to 'auto' in 1.4. Set the value of `n_init` explicitly to suppress the warning\n",
      "  super()._check_params_vs_input(X, default_n_init=10)\n",
      " 62%|██████▏   | 61/99 [00:22<00:18,  2.04it/s]c:\\Users\\grego\\anaconda3\\Lib\\site-packages\\sklearn\\cluster\\_kmeans.py:1412: FutureWarning: The default value of `n_init` will change from 10 to 'auto' in 1.4. Set the value of `n_init` explicitly to suppress the warning\n",
      "  super()._check_params_vs_input(X, default_n_init=10)\n",
      " 63%|██████▎   | 62/99 [00:23<00:18,  2.05it/s]c:\\Users\\grego\\anaconda3\\Lib\\site-packages\\sklearn\\cluster\\_kmeans.py:1412: FutureWarning: The default value of `n_init` will change from 10 to 'auto' in 1.4. Set the value of `n_init` explicitly to suppress the warning\n",
      "  super()._check_params_vs_input(X, default_n_init=10)\n",
      " 64%|██████▎   | 63/99 [00:23<00:17,  2.04it/s]c:\\Users\\grego\\anaconda3\\Lib\\site-packages\\sklearn\\cluster\\_kmeans.py:1412: FutureWarning: The default value of `n_init` will change from 10 to 'auto' in 1.4. Set the value of `n_init` explicitly to suppress the warning\n",
      "  super()._check_params_vs_input(X, default_n_init=10)\n",
      " 65%|██████▍   | 64/99 [00:24<00:17,  2.06it/s]c:\\Users\\grego\\anaconda3\\Lib\\site-packages\\sklearn\\cluster\\_kmeans.py:1412: FutureWarning: The default value of `n_init` will change from 10 to 'auto' in 1.4. Set the value of `n_init` explicitly to suppress the warning\n",
      "  super()._check_params_vs_input(X, default_n_init=10)\n",
      " 66%|██████▌   | 65/99 [00:24<00:16,  2.04it/s]c:\\Users\\grego\\anaconda3\\Lib\\site-packages\\sklearn\\cluster\\_kmeans.py:1412: FutureWarning: The default value of `n_init` will change from 10 to 'auto' in 1.4. Set the value of `n_init` explicitly to suppress the warning\n",
      "  super()._check_params_vs_input(X, default_n_init=10)\n",
      " 67%|██████▋   | 66/99 [00:25<00:16,  2.04it/s]c:\\Users\\grego\\anaconda3\\Lib\\site-packages\\sklearn\\cluster\\_kmeans.py:1412: FutureWarning: The default value of `n_init` will change from 10 to 'auto' in 1.4. Set the value of `n_init` explicitly to suppress the warning\n",
      "  super()._check_params_vs_input(X, default_n_init=10)\n",
      " 68%|██████▊   | 67/99 [00:25<00:15,  2.05it/s]c:\\Users\\grego\\anaconda3\\Lib\\site-packages\\sklearn\\cluster\\_kmeans.py:1412: FutureWarning: The default value of `n_init` will change from 10 to 'auto' in 1.4. Set the value of `n_init` explicitly to suppress the warning\n",
      "  super()._check_params_vs_input(X, default_n_init=10)\n",
      " 69%|██████▊   | 68/99 [00:26<00:15,  2.05it/s]c:\\Users\\grego\\anaconda3\\Lib\\site-packages\\sklearn\\cluster\\_kmeans.py:1412: FutureWarning: The default value of `n_init` will change from 10 to 'auto' in 1.4. Set the value of `n_init` explicitly to suppress the warning\n",
      "  super()._check_params_vs_input(X, default_n_init=10)\n",
      " 70%|██████▉   | 69/99 [00:26<00:14,  2.04it/s]c:\\Users\\grego\\anaconda3\\Lib\\site-packages\\sklearn\\cluster\\_kmeans.py:1412: FutureWarning: The default value of `n_init` will change from 10 to 'auto' in 1.4. Set the value of `n_init` explicitly to suppress the warning\n",
      "  super()._check_params_vs_input(X, default_n_init=10)\n",
      " 71%|███████   | 70/99 [00:27<00:14,  2.00it/s]c:\\Users\\grego\\anaconda3\\Lib\\site-packages\\sklearn\\cluster\\_kmeans.py:1412: FutureWarning: The default value of `n_init` will change from 10 to 'auto' in 1.4. Set the value of `n_init` explicitly to suppress the warning\n",
      "  super()._check_params_vs_input(X, default_n_init=10)\n",
      " 72%|███████▏  | 71/99 [00:27<00:13,  2.01it/s]c:\\Users\\grego\\anaconda3\\Lib\\site-packages\\sklearn\\cluster\\_kmeans.py:1412: FutureWarning: The default value of `n_init` will change from 10 to 'auto' in 1.4. Set the value of `n_init` explicitly to suppress the warning\n",
      "  super()._check_params_vs_input(X, default_n_init=10)\n",
      " 73%|███████▎  | 72/99 [00:28<00:13,  2.00it/s]c:\\Users\\grego\\anaconda3\\Lib\\site-packages\\sklearn\\cluster\\_kmeans.py:1412: FutureWarning: The default value of `n_init` will change from 10 to 'auto' in 1.4. Set the value of `n_init` explicitly to suppress the warning\n",
      "  super()._check_params_vs_input(X, default_n_init=10)\n",
      " 74%|███████▎  | 73/99 [00:28<00:13,  2.00it/s]c:\\Users\\grego\\anaconda3\\Lib\\site-packages\\sklearn\\cluster\\_kmeans.py:1412: FutureWarning: The default value of `n_init` will change from 10 to 'auto' in 1.4. Set the value of `n_init` explicitly to suppress the warning\n",
      "  super()._check_params_vs_input(X, default_n_init=10)\n",
      " 75%|███████▍  | 74/99 [00:29<00:12,  1.94it/s]c:\\Users\\grego\\anaconda3\\Lib\\site-packages\\sklearn\\cluster\\_kmeans.py:1412: FutureWarning: The default value of `n_init` will change from 10 to 'auto' in 1.4. Set the value of `n_init` explicitly to suppress the warning\n",
      "  super()._check_params_vs_input(X, default_n_init=10)\n",
      " 76%|███████▌  | 75/99 [00:29<00:12,  1.95it/s]c:\\Users\\grego\\anaconda3\\Lib\\site-packages\\sklearn\\cluster\\_kmeans.py:1412: FutureWarning: The default value of `n_init` will change from 10 to 'auto' in 1.4. Set the value of `n_init` explicitly to suppress the warning\n",
      "  super()._check_params_vs_input(X, default_n_init=10)\n",
      " 77%|███████▋  | 76/99 [00:30<00:11,  1.95it/s]c:\\Users\\grego\\anaconda3\\Lib\\site-packages\\sklearn\\cluster\\_kmeans.py:1412: FutureWarning: The default value of `n_init` will change from 10 to 'auto' in 1.4. Set the value of `n_init` explicitly to suppress the warning\n",
      "  super()._check_params_vs_input(X, default_n_init=10)\n",
      " 78%|███████▊  | 77/99 [00:30<00:11,  1.90it/s]c:\\Users\\grego\\anaconda3\\Lib\\site-packages\\sklearn\\cluster\\_kmeans.py:1412: FutureWarning: The default value of `n_init` will change from 10 to 'auto' in 1.4. Set the value of `n_init` explicitly to suppress the warning\n",
      "  super()._check_params_vs_input(X, default_n_init=10)\n",
      " 79%|███████▉  | 78/99 [00:31<00:11,  1.77it/s]c:\\Users\\grego\\anaconda3\\Lib\\site-packages\\sklearn\\cluster\\_kmeans.py:1412: FutureWarning: The default value of `n_init` will change from 10 to 'auto' in 1.4. Set the value of `n_init` explicitly to suppress the warning\n",
      "  super()._check_params_vs_input(X, default_n_init=10)\n",
      " 80%|███████▉  | 79/99 [00:32<00:11,  1.73it/s]c:\\Users\\grego\\anaconda3\\Lib\\site-packages\\sklearn\\cluster\\_kmeans.py:1412: FutureWarning: The default value of `n_init` will change from 10 to 'auto' in 1.4. Set the value of `n_init` explicitly to suppress the warning\n",
      "  super()._check_params_vs_input(X, default_n_init=10)\n",
      " 81%|████████  | 80/99 [00:32<00:11,  1.60it/s]c:\\Users\\grego\\anaconda3\\Lib\\site-packages\\sklearn\\cluster\\_kmeans.py:1412: FutureWarning: The default value of `n_init` will change from 10 to 'auto' in 1.4. Set the value of `n_init` explicitly to suppress the warning\n",
      "  super()._check_params_vs_input(X, default_n_init=10)\n",
      " 82%|████████▏ | 81/99 [00:33<00:11,  1.56it/s]c:\\Users\\grego\\anaconda3\\Lib\\site-packages\\sklearn\\cluster\\_kmeans.py:1412: FutureWarning: The default value of `n_init` will change from 10 to 'auto' in 1.4. Set the value of `n_init` explicitly to suppress the warning\n",
      "  super()._check_params_vs_input(X, default_n_init=10)\n",
      " 83%|████████▎ | 82/99 [00:34<00:11,  1.49it/s]c:\\Users\\grego\\anaconda3\\Lib\\site-packages\\sklearn\\cluster\\_kmeans.py:1412: FutureWarning: The default value of `n_init` will change from 10 to 'auto' in 1.4. Set the value of `n_init` explicitly to suppress the warning\n",
      "  super()._check_params_vs_input(X, default_n_init=10)\n",
      " 84%|████████▍ | 83/99 [00:34<00:10,  1.49it/s]c:\\Users\\grego\\anaconda3\\Lib\\site-packages\\sklearn\\cluster\\_kmeans.py:1412: FutureWarning: The default value of `n_init` will change from 10 to 'auto' in 1.4. Set the value of `n_init` explicitly to suppress the warning\n",
      "  super()._check_params_vs_input(X, default_n_init=10)\n",
      " 85%|████████▍ | 84/99 [00:35<00:09,  1.56it/s]c:\\Users\\grego\\anaconda3\\Lib\\site-packages\\sklearn\\cluster\\_kmeans.py:1412: FutureWarning: The default value of `n_init` will change from 10 to 'auto' in 1.4. Set the value of `n_init` explicitly to suppress the warning\n",
      "  super()._check_params_vs_input(X, default_n_init=10)\n",
      " 86%|████████▌ | 85/99 [00:36<00:08,  1.56it/s]c:\\Users\\grego\\anaconda3\\Lib\\site-packages\\sklearn\\cluster\\_kmeans.py:1412: FutureWarning: The default value of `n_init` will change from 10 to 'auto' in 1.4. Set the value of `n_init` explicitly to suppress the warning\n",
      "  super()._check_params_vs_input(X, default_n_init=10)\n",
      " 87%|████████▋ | 86/99 [00:36<00:08,  1.58it/s]c:\\Users\\grego\\anaconda3\\Lib\\site-packages\\sklearn\\cluster\\_kmeans.py:1412: FutureWarning: The default value of `n_init` will change from 10 to 'auto' in 1.4. Set the value of `n_init` explicitly to suppress the warning\n",
      "  super()._check_params_vs_input(X, default_n_init=10)\n",
      " 88%|████████▊ | 87/99 [00:37<00:07,  1.60it/s]c:\\Users\\grego\\anaconda3\\Lib\\site-packages\\sklearn\\cluster\\_kmeans.py:1412: FutureWarning: The default value of `n_init` will change from 10 to 'auto' in 1.4. Set the value of `n_init` explicitly to suppress the warning\n",
      "  super()._check_params_vs_input(X, default_n_init=10)\n",
      " 89%|████████▉ | 88/99 [00:37<00:06,  1.66it/s]c:\\Users\\grego\\anaconda3\\Lib\\site-packages\\sklearn\\cluster\\_kmeans.py:1412: FutureWarning: The default value of `n_init` will change from 10 to 'auto' in 1.4. Set the value of `n_init` explicitly to suppress the warning\n",
      "  super()._check_params_vs_input(X, default_n_init=10)\n",
      " 90%|████████▉ | 89/99 [00:38<00:05,  1.67it/s]c:\\Users\\grego\\anaconda3\\Lib\\site-packages\\sklearn\\cluster\\_kmeans.py:1412: FutureWarning: The default value of `n_init` will change from 10 to 'auto' in 1.4. Set the value of `n_init` explicitly to suppress the warning\n",
      "  super()._check_params_vs_input(X, default_n_init=10)\n",
      " 91%|█████████ | 90/99 [00:39<00:05,  1.72it/s]c:\\Users\\grego\\anaconda3\\Lib\\site-packages\\sklearn\\cluster\\_kmeans.py:1412: FutureWarning: The default value of `n_init` will change from 10 to 'auto' in 1.4. Set the value of `n_init` explicitly to suppress the warning\n",
      "  super()._check_params_vs_input(X, default_n_init=10)\n",
      " 92%|█████████▏| 91/99 [00:39<00:04,  1.73it/s]c:\\Users\\grego\\anaconda3\\Lib\\site-packages\\sklearn\\cluster\\_kmeans.py:1412: FutureWarning: The default value of `n_init` will change from 10 to 'auto' in 1.4. Set the value of `n_init` explicitly to suppress the warning\n",
      "  super()._check_params_vs_input(X, default_n_init=10)\n",
      " 93%|█████████▎| 92/99 [00:40<00:04,  1.73it/s]c:\\Users\\grego\\anaconda3\\Lib\\site-packages\\sklearn\\cluster\\_kmeans.py:1412: FutureWarning: The default value of `n_init` will change from 10 to 'auto' in 1.4. Set the value of `n_init` explicitly to suppress the warning\n",
      "  super()._check_params_vs_input(X, default_n_init=10)\n",
      " 94%|█████████▍| 93/99 [00:40<00:03,  1.72it/s]c:\\Users\\grego\\anaconda3\\Lib\\site-packages\\sklearn\\cluster\\_kmeans.py:1412: FutureWarning: The default value of `n_init` will change from 10 to 'auto' in 1.4. Set the value of `n_init` explicitly to suppress the warning\n",
      "  super()._check_params_vs_input(X, default_n_init=10)\n",
      " 95%|█████████▍| 94/99 [00:41<00:02,  1.73it/s]c:\\Users\\grego\\anaconda3\\Lib\\site-packages\\sklearn\\cluster\\_kmeans.py:1412: FutureWarning: The default value of `n_init` will change from 10 to 'auto' in 1.4. Set the value of `n_init` explicitly to suppress the warning\n",
      "  super()._check_params_vs_input(X, default_n_init=10)\n",
      " 96%|█████████▌| 95/99 [00:41<00:02,  1.68it/s]c:\\Users\\grego\\anaconda3\\Lib\\site-packages\\sklearn\\cluster\\_kmeans.py:1412: FutureWarning: The default value of `n_init` will change from 10 to 'auto' in 1.4. Set the value of `n_init` explicitly to suppress the warning\n",
      "  super()._check_params_vs_input(X, default_n_init=10)\n",
      " 97%|█████████▋| 96/99 [00:42<00:01,  1.60it/s]c:\\Users\\grego\\anaconda3\\Lib\\site-packages\\sklearn\\cluster\\_kmeans.py:1412: FutureWarning: The default value of `n_init` will change from 10 to 'auto' in 1.4. Set the value of `n_init` explicitly to suppress the warning\n",
      "  super()._check_params_vs_input(X, default_n_init=10)\n",
      " 98%|█████████▊| 97/99 [00:43<00:01,  1.57it/s]c:\\Users\\grego\\anaconda3\\Lib\\site-packages\\sklearn\\cluster\\_kmeans.py:1412: FutureWarning: The default value of `n_init` will change from 10 to 'auto' in 1.4. Set the value of `n_init` explicitly to suppress the warning\n",
      "  super()._check_params_vs_input(X, default_n_init=10)\n",
      " 99%|█████████▉| 98/99 [00:44<00:00,  1.54it/s]c:\\Users\\grego\\anaconda3\\Lib\\site-packages\\sklearn\\cluster\\_kmeans.py:1412: FutureWarning: The default value of `n_init` will change from 10 to 'auto' in 1.4. Set the value of `n_init` explicitly to suppress the warning\n",
      "  super()._check_params_vs_input(X, default_n_init=10)\n",
      "100%|██████████| 99/99 [00:44<00:00,  2.22it/s]\n"
     ]
    },
    {
     "data": {
      "image/png": "[encoded data removed]",
      "text/plain": [
       "<Figure size 640x480 with 1 Axes>"
      ]
     },
     "metadata": {},
     "output_type": "display_data"
    }
   ],
   "source": [
    "### TO BE COMPLETED:\n",
    "### generate a KMeans model with varying n_clusters, fit it to the data \n",
    "### and add its inertia to the inertia list\n",
    "\n",
    "import tqdm\n",
    "\n",
    "inertias = []\n",
    "nclust = range(1,100)\n",
    "\n",
    "for i in tqdm.tqdm(nclust):\n",
    "    kmeans = KMeans(n_clusters=i, random_state=0)\n",
    "    kmeans.fit(x_digits)\n",
    "    inertias.append(kmeans.inertia_)\n",
    "\n",
    "plt.plot(nclust, inertias)\n",
    "plt.xlabel('Number of Clusters')\n",
    "plt.ylabel('Inertia')\n",
    "plt.title('Elbow Method for Optimal k')\n",
    "plt.show()\n"
   ]
  },
  {
   "cell_type": "markdown",
   "metadata": {},
   "source": [
    "Sparse Dictionary Learning  on Digits\n",
    "--"
   ]
  },
  {
   "cell_type": "markdown",
   "metadata": {},
   "source": [
    "We are now going to pass to dictionary learning. The first thing is to generate a model using [MiniBatchDictionaryLearning](http://scikit-learn.org/stable/modules/generated/sklearn.decomposition.MiniBatchDictionaryLearning.html). MiniBatch here means that the method is trained using only a part of the dataset at each time, which helps immensely with the scaling of the method to bigger and wider datasets, but does not guarantee a performance as good as the normal method (where the method see all the dataset at the same time).\n",
    "\n",
    "Use n_components=$16$, random_state=$0$, batch_size=$3$, max_iter=$1000$ and verbose = $10$ to instantiate your object.\n",
    "\n",
    "*Note: batch_size and max_iter are set to avoid costly computation.*\n",
    "\n",
    "The method [fit_transform](http://scikit-learn.org/stable/modules/generated/sklearn.decomposition.MiniBatchDictionaryLearning.html#sklearn.decomposition.MiniBatchDictionaryLearning.fit_transform) is more useful than fit in this case, as it returns the transformed version generated by the dictionary (denoted U in the course), *i.e.* the codes associated with the dictionary."
   ]
  },
  {
   "cell_type": "code",
   "execution_count": 50,
   "metadata": {
    "ExecuteTime": {
     "end_time": "2023-11-07T16:34:59.684982Z",
     "start_time": "2023-11-07T16:34:52.595152Z"
    },
    "scrolled": true
   },
   "outputs": [],
   "source": [
    "# Instantiate MiniBatchDictionaryLearning object\n",
    "dictlearn = MiniBatchDictionaryLearning(n_components=16, random_state=0, batch_size=3, max_iter=1000, verbose=10)"
   ]
  },
  {
   "cell_type": "markdown",
   "metadata": {},
   "source": [
    "We now retrieve each of the components of the dictionary, and plot them so we can visualize the results"
   ]
  },
  {
   "cell_type": "code",
   "execution_count": 52,
   "metadata": {
    "ExecuteTime": {
     "end_time": "2023-11-07T16:35:00.233173Z",
     "start_time": "2023-11-07T16:34:59.686918Z"
    }
   },
   "outputs": [
    {
     "ename": "AttributeError",
     "evalue": "'MiniBatchDictionaryLearning' object has no attribute 'components_'",
     "output_type": "error",
     "traceback": [
      "\u001b[1;31m---------------------------------------------------------------------------\u001b[0m",
      "\u001b[1;31mAttributeError\u001b[0m                            Traceback (most recent call last)",
      "Cell \u001b[1;32mIn[52], line 1\u001b[0m\n\u001b[1;32m----> 1\u001b[0m components \u001b[38;5;241m=\u001b[39m dictlearn\u001b[38;5;241m.\u001b[39mcomponents_\n\u001b[0;32m      2\u001b[0m fig, axis \u001b[38;5;241m=\u001b[39m plt\u001b[38;5;241m.\u001b[39msubplots(\u001b[38;5;241m4\u001b[39m, \u001b[38;5;241m4\u001b[39m)\n\u001b[0;32m      3\u001b[0m \u001b[38;5;28;01mfor\u001b[39;00m i, d \u001b[38;5;129;01min\u001b[39;00m \u001b[38;5;28menumerate\u001b[39m(components):\n",
      "\u001b[1;31mAttributeError\u001b[0m: 'MiniBatchDictionaryLearning' object has no attribute 'components_'"
     ]
    }
   ],
   "source": [
    "components = dictlearn.components_\n",
    "fig, axis = plt.subplots(4, 4)\n",
    "for i, d in enumerate(components):\n",
    "    ax = axis[i//4][i%4]\n",
    "    ax.imshow(d.reshape((8, 8)), cmap=plt.cm.gray, vmin=np.min(components), vmax=np.max(components))\n",
    "    ax.set_xticks([])\n",
    "    ax.set_yticks([])"
   ]
  },
  {
   "cell_type": "markdown",
   "metadata": {},
   "source": [
    "Here we can see that the structure of the digits was kept by the components, which means that the digits are always centered and that the rest is a uniform background. "
   ]
  },
  {
   "cell_type": "markdown",
   "metadata": {},
   "source": [
    "Now we want to generate some reconstructions, so first we are going to generate some samples."
   ]
  },
  {
   "cell_type": "code",
   "execution_count": null,
   "metadata": {
    "ExecuteTime": {
     "end_time": "2023-11-07T16:35:00.239988Z",
     "start_time": "2023-11-07T16:35:00.234165Z"
    }
   },
   "outputs": [],
   "source": [
    "whichex = np.random.randint(low=0, high=100, size=1) \n",
    "samples = list()\n",
    "indexes = list()\n",
    "for i in range(10):\n",
    "    index = np.where(y_digits==i)[0][whichex]\n",
    "    samples.append(x_digits[index])\n",
    "    indexes.append(index)\n",
    "X_samp = np.concatenate(samples)\n",
    "indexes = np.array(indexes)"
   ]
  },
  {
   "cell_type": "markdown",
   "metadata": {},
   "source": [
    "And now we will use the codes obtained using the dictionary and the indexes used to extract the samples to reconstruct the data by using [np.dot]() function to perform matrix multiplication between the sample code and the components from the dictionary."
   ]
  },
  {
   "cell_type": "code",
   "execution_count": null,
   "metadata": {
    "ExecuteTime": {
     "end_time": "2023-11-07T16:35:00.254318Z",
     "start_time": "2023-11-07T16:35:00.241983Z"
    }
   },
   "outputs": [],
   "source": [
    "### TO BE COMPLETED:\n",
    "### generate the reconstructions array using the codes and the components.\n",
    "\n",
    "print(components.shape)\n",
    "print(codes.shape)\n",
    "print(x_digits.shape)\n"
   ]
  },
  {
   "cell_type": "markdown",
   "metadata": {},
   "source": [
    "Finally, we compare each reconstructed sample with the original one."
   ]
  },
  {
   "cell_type": "code",
   "execution_count": null,
   "metadata": {
    "ExecuteTime": {
     "end_time": "2023-11-07T16:35:01.375690Z",
     "start_time": "2023-11-07T16:35:00.255312Z"
    }
   },
   "outputs": [],
   "source": [
    "plt.figure(figsize=(20,5))\n",
    "for plot_index,(digit,reconstruction) in enumerate(zip(X_samp,reconstructions)):\n",
    "    plt.subplot(2,10,plot_index*2+1)\n",
    "\n",
    "    plt.imshow(digit.reshape((8,8)),cmap=plt.cm.gray,vmin=x_digits.min(),vmax=x_digits.max())\n",
    "    plt.xticks([])\n",
    "    plt.yticks([])\n",
    "    plt.title('$x$')\n",
    "        \n",
    "    plt.subplot(2,10,plot_index*2+2)\n",
    "    plt.imshow(reconstruction.reshape((8,8)),cmap=plt.cm.gray,vmin=reconstructions.min(),vmax=reconstructions.max())\n",
    "    plt.xticks([])\n",
    "    plt.yticks([])\n",
    "    error = np.sum((reconstruction-digit)**2)\n",
    "    plt.title('${\\~x}$, error %.2E' % error)"
   ]
  },
  {
   "cell_type": "markdown",
   "metadata": {},
   "source": [
    "# Visualization of manifold learning"
   ]
  },
  {
   "cell_type": "markdown",
   "metadata": {},
   "source": [
    "To give an example of the importance of manifold learning, we train a TSNE model and plot the 2D visualization. We will not get into more details here, but note that TSNE is a very common tool to study data in an unsupervised manner."
   ]
  },
  {
   "cell_type": "code",
   "execution_count": null,
   "metadata": {
    "ExecuteTime": {
     "end_time": "2023-11-07T16:35:10.645469Z",
     "start_time": "2023-11-07T16:35:01.377685Z"
    }
   },
   "outputs": [],
   "source": [
    "from sklearn.manifold import TSNE\n",
    "\n",
    "unsup = TSNE(random_state=0)\n",
    "examples = unsup.fit_transform(x_digits)\n",
    "plt.scatter(examples[:,0], examples[:,1], c=y_digits)\n",
    "plt.colorbar()"
   ]
  },
  {
   "cell_type": "markdown",
   "metadata": {},
   "source": [
    "# Apply Unsupervised Learning to PyRat\n",
    "The file features_unsupervised.csv contains a list of features extracted from PyRat games. "
   ]
  },
  {
   "cell_type": "code",
   "execution_count": null,
   "metadata": {
    "ExecuteTime": {
     "end_time": "2023-11-07T16:36:13.347954Z",
     "start_time": "2023-11-07T16:36:13.338534Z"
    }
   },
   "outputs": [],
   "source": [
    "import pandas\n",
    "features_unsupervised = pandas.read_csv(\"features_unsupervised.csv\", sep=\";\")"
   ]
  },
  {
   "cell_type": "code",
   "execution_count": null,
   "metadata": {
    "ExecuteTime": {
     "end_time": "2023-11-07T16:35:11.093958Z",
     "start_time": "2023-11-07T16:35:10.759691Z"
    }
   },
   "outputs": [],
   "source": [
    "features_unsupervised"
   ]
  },
  {
   "cell_type": "markdown",
   "metadata": {},
   "source": [
    "\n",
    "The features are defined as follows : \n",
    "- Distance $d(i,j)$ is the shortest path (minimum number of moves) between two positions $i$ and $j$. In particular, we provide the distance between the rat and the python (distance(rat,python)).\n",
    "- We also provide all distances between the starting position of each player and each cheese.\n",
    "- The number assigned to the cheese for each player are sorted by ascending distances. (distance(rat,cheese_0) is the distance  to the cheese closest to the rat, distance(rat,cheese_1) is the next closest, etc.. same for python )\n",
    "- Density of a cheese $c$ is defined as $density(c) = \\sum_{c' \\neq c}{\\frac{1}{d(c,c')}}$\n",
    "- Density around the starting position of a player $p$ is defined as $density(p) = \\sum_{c}{\\frac{1}{d(p,c)}}$\n",
    "\n"
   ]
  },
  {
   "cell_type": "markdown",
   "metadata": {},
   "source": [
    "You can access the values as a numpy array using `features_unsupervised.values`, as well as all column names using `features_unsupervised.columns`"
   ]
  },
  {
   "cell_type": "code",
   "execution_count": null,
   "metadata": {
    "ExecuteTime": {
     "end_time": "2023-11-07T16:35:11.105922Z",
     "start_time": "2023-11-07T16:35:11.105922Z"
    }
   },
   "outputs": [],
   "source": [
    "features_unsupervised.values"
   ]
  },
  {
   "cell_type": "code",
   "execution_count": null,
   "metadata": {
    "ExecuteTime": {
     "end_time": "2023-11-07T16:35:11.106919Z",
     "start_time": "2023-11-07T16:35:11.106919Z"
    }
   },
   "outputs": [],
   "source": [
    "features_unsupervised.shape"
   ]
  },
  {
   "cell_type": "code",
   "execution_count": null,
   "metadata": {
    "ExecuteTime": {
     "end_time": "2023-11-07T16:35:11.108922Z",
     "start_time": "2023-11-07T16:35:11.108922Z"
    }
   },
   "outputs": [],
   "source": [
    "features_unsupervised.columns.to_list()"
   ]
  },
  {
   "cell_type": "markdown",
   "metadata": {},
   "source": [
    "A first thing we ask you to do is to fit a Kmeans clustering on this data. As we don't provide labels, you'll have to rely on clustering metrics to evaluate the quality of clustering. You can use `inertia_` as we did above, as well as other unsupervised clustering metrics such as the [silhouette coefficent](https://scikit-learn.org/stable/modules/clustering.html#silhouette-coefficient) or the [Calinski Harabasz index](https://scikit-learn.org/stable/modules/clustering.html#calinski-harabasz-index)"
   ]
  },
  {
   "cell_type": "code",
   "execution_count": null,
   "metadata": {
    "ExecuteTime": {
     "end_time": "2023-11-07T16:35:11.110910Z",
     "start_time": "2023-11-07T16:35:11.109912Z"
    }
   },
   "outputs": [],
   "source": [
    "#### TO BE COMPLETED\n",
    "\n"
   ]
  },
  {
   "cell_type": "markdown",
   "metadata": {},
   "source": [
    "# PROJECT 2 - mini challenge \n",
    "\n",
    "Here are instructions for the next project (to be presented in two weeks - **7 minutes + 3 minutes questions**)\n",
    "\n",
    "Main Goal : **Assign cluster labels to each provided sample**\n",
    "\n",
    "During your presentation we will test how well your cluster labels fit with the ground truth labels corresponding to the winner using supervised clustering metric such as the [adjusted rand index](https://scikit-learn.org/stable/modules/clustering.html#rand-index). **Importantly**, you can estimate more than 2 clusters - see the definition of clustering metrics that use ground truth labels, testing for consistency of cluster assignments with ground truth labels. \n",
    "\n",
    "You are free to use combination of unsupervised learning techniques, such as : \n",
    "- Unsupervised feature selection as done above \n",
    "- Manual feature selection and feature engineering (i.e. combining features with a calculation that you define yourself)\n",
    "- [Feature preprocessing](https://scikit-learn.org/stable/modules/preprocessing.html)\n",
    "- [Decomposition techniques](https://scikit-learn.org/stable/modules/decomposition.html#decompositions) (may be used as a first step before clustering)\n",
    "- [Any clustering algorithm](https://scikit-learn.org/stable/modules/clustering.html#overview-of-clustering-methods) implemented in sklearn.\n",
    "- [Manifold learning](https://scikit-learn.org/stable/modules/manifold.html#manifold)\n",
    "\n",
    "You can combine any of the techniques mentionned above, feel free to experiment. You can compare your different experiments using the unsupervised metrics we used previouly. \n",
    "\n",
    "In order to evaluate your solution, we ask you to provide us with the estimated cluster labels (numpy array named `labels` of shape `(1000,)`) by saving them with the following command : \n",
    "\n",
    "`np.savez_compressed('labels_binomeX.npz',labels=labels)`\n",
    "\n",
    "And post the file in your binome channel just before the presentations start. \n",
    "\n"
   ]
  },
  {
   "cell_type": "markdown",
   "metadata": {},
   "source": [
    "# To go further: semi-supervised Learning on PyRat "
   ]
  },
  {
   "cell_type": "markdown",
   "metadata": {},
   "source": [
    "In some situations, data labeling can be pretty expensive, although it is available in large quantity. This can occur when human expertise is required, or when particular resources are needed to determine the label, among other examples. In these cases, one can be interested in what is commonly called *semi-supervised learning*. This paradigm is halfway between supervised and unsupervised learning, and typically consists in attributing labels to unlabeled samples, given a low count of labeled samples of the same classes. Semi-supervised learning can be used to provide a pseudo-label to the unlabeled samples, but also to get better performance than unsupervised learning. Indeed, knowledge of a few labels gives some information that can be exploited.\n",
    "\n",
    "A way to perform semi-supervised clustering is to use a *nearest class mean* (NCM) classifier. Such a classifier computes a barycenter of the labeled samples of a particular class. Then, unsupervised samples are attributed the label of the closest barycenter. Those barycenters can be computed either directly as a mean of the values of all labeled samples per feature, or on a transformed representation of the samples. Such a transformation can be obtained for instance in the middle layer of an autoencoder.\n",
    "\n",
    "Consider the following information:\n",
    "- Rows 20, 140, 257, 394 and 451 in 'features_unsupervised.csv' are of class 0\n",
    "- Rows 29, 258, 369, 500 and 580 in 'features_unsupervised.csv' are of class 1\n",
    "\n",
    "Now program a NCM to give labels to all unlabeled samples."
   ]
  },
  {
   "cell_type": "code",
   "execution_count": null,
   "metadata": {
    "ExecuteTime": {
     "end_time": "2023-11-07T16:35:11.111906Z",
     "start_time": "2023-11-07T16:35:11.111906Z"
    }
   },
   "outputs": [],
   "source": [
    "def nearest_class_mean(train_features, classes, test_features):\n",
    "\n",
    "    \"\"\"Nearest class mean classifier\n",
    "    \n",
    "    Args:\n",
    "        train_features (numpy.ndarray): A matrix of training features (n_samples, n_features)\n",
    "        classes (numpy.array): An array of class labels for each training sample (n_samples,)\n",
    "        test_features (numpy.ndarray): A matrix of test features (n_samples, n_features)\n",
    "        \n",
    "    Returns:\n",
    "        numpy.ndarray: A list of predicted class labels for each test sample (n_samples,)\n",
    "    \"\"\"\n",
    "    \n",
    "    #### TO BE COMPLETED"
   ]
  },
  {
   "cell_type": "code",
   "execution_count": null,
   "metadata": {
    "ExecuteTime": {
     "end_time": "2023-11-07T16:35:11.114909Z",
     "start_time": "2023-11-07T16:35:11.114909Z"
    }
   },
   "outputs": [],
   "source": [
    "# Prepare information\n",
    "labels_1 = [20, 140, 257, 394, 451]\n",
    "labels_2 = [29, 258, 369, 500, 580]\n",
    "features_unsupervised = features_unsupervised.astype(float)\n",
    "train_samples = features_unsupervised.values[labels_1 + labels_2, :]\n",
    "test_samples = features_unsupervised.values[[i for i in range(features_unsupervised.shape[0]) if i not in labels_1 + labels_2], :]\n",
    "classes = np.array([0] * len(labels_1) + [1] * len(labels_2))\n",
    "\n",
    "# Call the nearest class mean classifier\n",
    "result = nearest_class_mean(train_samples, classes, test_samples)\n",
    "print(result)"
   ]
  }
 ],
 "metadata": {
  "interpreter": {
   "hash": "8be6d65b4a494f6e4f93f1857ec1a6f5288edd1e5f1b656b708bd9b8d81d3faa"
  },
  "kernelspec": {
   "display_name": "Python 3 (ipykernel)",
   "language": "python",
   "name": "python3"
  },
  "language_info": {
   "codemirror_mode": {
    "name": "ipython",
    "version": 3
   },
   "file_extension": ".py",
   "mimetype": "text/x-python",
   "name": "python",
   "nbconvert_exporter": "python",
   "pygments_lexer": "ipython3",
   "version": "3.11.4"
  },
  "toc": {
   "base_numbering": 1,
   "nav_menu": {},
   "number_sections": true,
   "sideBar": true,
   "skip_h1_title": false,
   "title_cell": "Table of Contents",
   "title_sidebar": "Contents",
   "toc_cell": false,
   "toc_position": {},
   "toc_section_display": true,
   "toc_window_display": false
  },
  "varInspector": {
   "cols": {
    "lenName": 16,
    "lenType": 16,
    "lenVar": 40
   },
   "kernels_config": {
    "python": {
     "delete_cmd_postfix": "",
     "delete_cmd_prefix": "del ",
     "library": "var_list.py",
     "varRefreshCmd": "print(var_dic_list())"
    },
    "r": {
     "delete_cmd_postfix": ") ",
     "delete_cmd_prefix": "rm(",
     "library": "var_list.r",
     "varRefreshCmd": "cat(var_dic_list()) "
    }
   },
   "types_to_exclude": [
    "module",
    "function",
    "builtin_function_or_method",
    "instance",
    "_Feature"
   ],
   "window_display": false
  }
 },
 "nbformat": 4,
 "nbformat_minor": 4
}
